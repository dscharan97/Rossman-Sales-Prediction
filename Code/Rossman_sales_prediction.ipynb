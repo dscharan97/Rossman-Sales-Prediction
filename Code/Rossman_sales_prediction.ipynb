{
  "cells": [
    {
      "cell_type": "markdown",
      "metadata": {
        "id": "uJv9mc5TWHA2"
      },
      "source": [
        "# Project Title: Rossmann Sales Prediction\n",
        "### Name: Sai Charan Desireddy\n",
        "### Date: 2/12/2024"
      ]
    },
    {
      "cell_type": "markdown",
      "metadata": {
        "id": "VbTTU73IWHA3"
      },
      "source": [
        "## Breif Description: :\n",
        "\n",
        "We are given historical sales data for 1,115 Rossmann stores. The task is to forecast the \"Sales\" column for the test set. Note that some stores in the dataset were temporarily closed for refurbishment.\n",
        "\n",
        "### Data fields\n",
        "The following are descriptions for those that aren't.\n",
        "\n",
        "* **`Id`** - an Id that represents a (Store, Date) duple within the test set\n",
        "* **`Store`** - a unique Id for each store\n",
        "* **`Sales`** - the turnover for any given day (this is what you are predicting)\n",
        "* **`Customers`** - the number of customers on a given day\n",
        "* **`Open`** - an indicator for whether the store was open: 0 = closed, 1 = open\n",
        "* **`StateHoliday`** - indicates a state holiday. Normally all stores, with few exceptions, are closed on state holidays. Note that all schools are closed on public holidays and weekends. a = public holiday, b = Easter holiday, c = Christmas, 0 = None\n",
        "* **`SchoolHoliday`** - indicates if the (Store, Date) was affected by the closure of public schools\n",
        "* **`StoreType`** - differentiates between 4 different store models: a, b, c, d\n",
        "* **`Assortment`** - describes an assortment level: a = basic, b = extra, c = extended\n",
        "* **`CompetitionDistance`** - distance in meters to the nearest competitor store\n",
        "* **`CompetitionOpenSince[Month/Year]`** - gives the approximate year and month of the time the nearest competitor was opened\n",
        "* **`Promo`** - indicates whether a store is running a promo on that day\n",
        "* **`Promo2`** - Promo2 is a continuing and consecutive promotion for some stores: 0 = store is not participating, 1 = store is participating\n",
        "* **`Promo2Since[Year/Week]`** - describes the year and calendar week when the store started participating in Promo2\n",
        "* **`PromoInterval`** - describes the consecutive intervals Promo2 is started, naming the months the promotion is started anew. E.g. \"Feb,May,Aug,Nov\" means each round starts in February, May, August, November of any given year for that store"
      ]
    },
    {
      "cell_type": "markdown",
      "metadata": {
        "id": "kCHNxpkPWHA3"
      },
      "source": [
        "### Import libraries"
      ]
    },
    {
      "cell_type": "code",
      "execution_count": null,
      "metadata": {
        "_cell_guid": "b1076dfc-b9ad-4769-8c92-a6c4dae69d19",
        "_uuid": "8f2839f25d086af736a60e9eeb907d3b93b6e0e5",
        "execution": {
          "iopub.execute_input": "2024-11-21T15:42:47.349057Z",
          "iopub.status.busy": "2024-11-21T15:42:47.348628Z",
          "iopub.status.idle": "2024-11-21T15:42:47.359441Z",
          "shell.execute_reply": "2024-11-21T15:42:47.357890Z",
          "shell.execute_reply.started": "2024-11-21T15:42:47.348998Z"
        },
        "trusted": true,
        "id": "xOBi5yYzWHA4",
        "outputId": "ebc8f643-b2ad-47cd-e479-bdb9aaf63d2c"
      },
      "outputs": [
        {
          "name": "stdout",
          "output_type": "stream",
          "text": [
            "/kaggle/input/rossmann-store-sales/sample_submission.csv\n",
            "/kaggle/input/rossmann-store-sales/store.csv\n",
            "/kaggle/input/rossmann-store-sales/train.csv\n",
            "/kaggle/input/rossmann-store-sales/test.csv\n"
          ]
        }
      ],
      "source": [
        "import numpy as np\n",
        "import pandas as pd\n",
        "import seaborn as sns\n",
        "import matplotlib.pyplot as plt\n",
        "from scipy import stats\n",
        "from sklearn.model_selection import train_test_split\n",
        "from sklearn.tree import DecisionTreeRegressor\n",
        "from sklearn.ensemble import RandomForestRegressor\n",
        "from sklearn.metrics import mean_squared_error, r2_score"
      ]
    },
    {
      "cell_type": "markdown",
      "metadata": {
        "id": "u_HSol-bWHA5"
      },
      "source": [
        "### Load datasets"
      ]
    },
    {
      "cell_type": "code",
      "execution_count": null,
      "metadata": {
        "execution": {
          "iopub.execute_input": "2024-11-21T16:46:40.863851Z",
          "iopub.status.busy": "2024-11-21T16:46:40.863414Z",
          "iopub.status.idle": "2024-11-21T16:46:41.730282Z",
          "shell.execute_reply": "2024-11-21T16:46:41.729186Z",
          "shell.execute_reply.started": "2024-11-21T16:46:40.863813Z"
        },
        "trusted": true,
        "id": "cArF1ED5WHA5",
        "outputId": "cf1a4bbd-d94a-4a59-a37f-30e47125ad2d"
      },
      "outputs": [
        {
          "name": "stderr",
          "output_type": "stream",
          "text": [
            "/tmp/ipykernel_30/3114421857.py:5: DtypeWarning: Columns (7) have mixed types. Specify dtype option on import or set low_memory=False.\n",
            "  train_df = pd.read_csv('/kaggle/input/rossmann-store-sales/train.csv')\n"
          ]
        }
      ],
      "source": [
        "#load all datasets\n",
        "store_df = pd.read_csv('Data/store.csv')\n",
        "train_df = pd.read_csv('Data/train.csv')"
      ]
    },
    {
      "cell_type": "markdown",
      "metadata": {
        "id": "vJqpdmB5WHA5"
      },
      "source": [
        "In the sample_submission csv, there is such data which is realted to our problem statment, so we can skip this."
      ]
    },
    {
      "cell_type": "code",
      "execution_count": null,
      "metadata": {
        "execution": {
          "iopub.execute_input": "2024-11-21T15:42:48.125081Z",
          "iopub.status.busy": "2024-11-21T15:42:48.124508Z",
          "iopub.status.idle": "2024-11-21T15:42:48.147202Z",
          "shell.execute_reply": "2024-11-21T15:42:48.146061Z",
          "shell.execute_reply.started": "2024-11-21T15:42:48.124996Z"
        },
        "trusted": true,
        "id": "038eADrMWHA5",
        "outputId": "3b860cdb-f864-41b8-e9d5-82a65c1453f3"
      },
      "outputs": [
        {
          "data": {
            "text/html": [
              "<div>\n",
              "<style scoped>\n",
              "    .dataframe tbody tr th:only-of-type {\n",
              "        vertical-align: middle;\n",
              "    }\n",
              "\n",
              "    .dataframe tbody tr th {\n",
              "        vertical-align: top;\n",
              "    }\n",
              "\n",
              "    .dataframe thead th {\n",
              "        text-align: right;\n",
              "    }\n",
              "</style>\n",
              "<table border=\"1\" class=\"dataframe\">\n",
              "  <thead>\n",
              "    <tr style=\"text-align: right;\">\n",
              "      <th></th>\n",
              "      <th>Store</th>\n",
              "      <th>StoreType</th>\n",
              "      <th>Assortment</th>\n",
              "      <th>CompetitionDistance</th>\n",
              "      <th>CompetitionOpenSinceMonth</th>\n",
              "      <th>CompetitionOpenSinceYear</th>\n",
              "      <th>Promo2</th>\n",
              "      <th>Promo2SinceWeek</th>\n",
              "      <th>Promo2SinceYear</th>\n",
              "      <th>PromoInterval</th>\n",
              "    </tr>\n",
              "  </thead>\n",
              "  <tbody>\n",
              "    <tr>\n",
              "      <th>0</th>\n",
              "      <td>1</td>\n",
              "      <td>c</td>\n",
              "      <td>a</td>\n",
              "      <td>1270.0</td>\n",
              "      <td>9.0</td>\n",
              "      <td>2008.0</td>\n",
              "      <td>0</td>\n",
              "      <td>NaN</td>\n",
              "      <td>NaN</td>\n",
              "      <td>NaN</td>\n",
              "    </tr>\n",
              "    <tr>\n",
              "      <th>1</th>\n",
              "      <td>2</td>\n",
              "      <td>a</td>\n",
              "      <td>a</td>\n",
              "      <td>570.0</td>\n",
              "      <td>11.0</td>\n",
              "      <td>2007.0</td>\n",
              "      <td>1</td>\n",
              "      <td>13.0</td>\n",
              "      <td>2010.0</td>\n",
              "      <td>Jan,Apr,Jul,Oct</td>\n",
              "    </tr>\n",
              "    <tr>\n",
              "      <th>2</th>\n",
              "      <td>3</td>\n",
              "      <td>a</td>\n",
              "      <td>a</td>\n",
              "      <td>14130.0</td>\n",
              "      <td>12.0</td>\n",
              "      <td>2006.0</td>\n",
              "      <td>1</td>\n",
              "      <td>14.0</td>\n",
              "      <td>2011.0</td>\n",
              "      <td>Jan,Apr,Jul,Oct</td>\n",
              "    </tr>\n",
              "    <tr>\n",
              "      <th>3</th>\n",
              "      <td>4</td>\n",
              "      <td>c</td>\n",
              "      <td>c</td>\n",
              "      <td>620.0</td>\n",
              "      <td>9.0</td>\n",
              "      <td>2009.0</td>\n",
              "      <td>0</td>\n",
              "      <td>NaN</td>\n",
              "      <td>NaN</td>\n",
              "      <td>NaN</td>\n",
              "    </tr>\n",
              "    <tr>\n",
              "      <th>4</th>\n",
              "      <td>5</td>\n",
              "      <td>a</td>\n",
              "      <td>a</td>\n",
              "      <td>29910.0</td>\n",
              "      <td>4.0</td>\n",
              "      <td>2015.0</td>\n",
              "      <td>0</td>\n",
              "      <td>NaN</td>\n",
              "      <td>NaN</td>\n",
              "      <td>NaN</td>\n",
              "    </tr>\n",
              "  </tbody>\n",
              "</table>\n",
              "</div>"
            ],
            "text/plain": [
              "   Store StoreType Assortment  CompetitionDistance  CompetitionOpenSinceMonth  \\\n",
              "0      1         c          a               1270.0                        9.0   \n",
              "1      2         a          a                570.0                       11.0   \n",
              "2      3         a          a              14130.0                       12.0   \n",
              "3      4         c          c                620.0                        9.0   \n",
              "4      5         a          a              29910.0                        4.0   \n",
              "\n",
              "   CompetitionOpenSinceYear  Promo2  Promo2SinceWeek  Promo2SinceYear  \\\n",
              "0                    2008.0       0              NaN              NaN   \n",
              "1                    2007.0       1             13.0           2010.0   \n",
              "2                    2006.0       1             14.0           2011.0   \n",
              "3                    2009.0       0              NaN              NaN   \n",
              "4                    2015.0       0              NaN              NaN   \n",
              "\n",
              "     PromoInterval  \n",
              "0              NaN  \n",
              "1  Jan,Apr,Jul,Oct  \n",
              "2  Jan,Apr,Jul,Oct  \n",
              "3              NaN  \n",
              "4              NaN  "
            ]
          },
          "execution_count": 56,
          "metadata": {},
          "output_type": "execute_result"
        }
      ],
      "source": [
        "store_df.head()"
      ]
    },
    {
      "cell_type": "code",
      "execution_count": null,
      "metadata": {
        "execution": {
          "iopub.execute_input": "2024-11-21T15:42:48.149319Z",
          "iopub.status.busy": "2024-11-21T15:42:48.148850Z",
          "iopub.status.idle": "2024-11-21T15:42:48.165460Z",
          "shell.execute_reply": "2024-11-21T15:42:48.164139Z",
          "shell.execute_reply.started": "2024-11-21T15:42:48.149267Z"
        },
        "trusted": true,
        "id": "xz8kNcfvWHA6",
        "outputId": "7c190622-cb0d-41c7-8107-369bcf37d5d8"
      },
      "outputs": [
        {
          "data": {
            "text/html": [
              "<div>\n",
              "<style scoped>\n",
              "    .dataframe tbody tr th:only-of-type {\n",
              "        vertical-align: middle;\n",
              "    }\n",
              "\n",
              "    .dataframe tbody tr th {\n",
              "        vertical-align: top;\n",
              "    }\n",
              "\n",
              "    .dataframe thead th {\n",
              "        text-align: right;\n",
              "    }\n",
              "</style>\n",
              "<table border=\"1\" class=\"dataframe\">\n",
              "  <thead>\n",
              "    <tr style=\"text-align: right;\">\n",
              "      <th></th>\n",
              "      <th>Store</th>\n",
              "      <th>DayOfWeek</th>\n",
              "      <th>Date</th>\n",
              "      <th>Sales</th>\n",
              "      <th>Customers</th>\n",
              "      <th>Open</th>\n",
              "      <th>Promo</th>\n",
              "      <th>StateHoliday</th>\n",
              "      <th>SchoolHoliday</th>\n",
              "    </tr>\n",
              "  </thead>\n",
              "  <tbody>\n",
              "    <tr>\n",
              "      <th>0</th>\n",
              "      <td>1</td>\n",
              "      <td>5</td>\n",
              "      <td>2015-07-31</td>\n",
              "      <td>5263</td>\n",
              "      <td>555</td>\n",
              "      <td>1</td>\n",
              "      <td>1</td>\n",
              "      <td>0</td>\n",
              "      <td>1</td>\n",
              "    </tr>\n",
              "    <tr>\n",
              "      <th>1</th>\n",
              "      <td>2</td>\n",
              "      <td>5</td>\n",
              "      <td>2015-07-31</td>\n",
              "      <td>6064</td>\n",
              "      <td>625</td>\n",
              "      <td>1</td>\n",
              "      <td>1</td>\n",
              "      <td>0</td>\n",
              "      <td>1</td>\n",
              "    </tr>\n",
              "    <tr>\n",
              "      <th>2</th>\n",
              "      <td>3</td>\n",
              "      <td>5</td>\n",
              "      <td>2015-07-31</td>\n",
              "      <td>8314</td>\n",
              "      <td>821</td>\n",
              "      <td>1</td>\n",
              "      <td>1</td>\n",
              "      <td>0</td>\n",
              "      <td>1</td>\n",
              "    </tr>\n",
              "    <tr>\n",
              "      <th>3</th>\n",
              "      <td>4</td>\n",
              "      <td>5</td>\n",
              "      <td>2015-07-31</td>\n",
              "      <td>13995</td>\n",
              "      <td>1498</td>\n",
              "      <td>1</td>\n",
              "      <td>1</td>\n",
              "      <td>0</td>\n",
              "      <td>1</td>\n",
              "    </tr>\n",
              "    <tr>\n",
              "      <th>4</th>\n",
              "      <td>5</td>\n",
              "      <td>5</td>\n",
              "      <td>2015-07-31</td>\n",
              "      <td>4822</td>\n",
              "      <td>559</td>\n",
              "      <td>1</td>\n",
              "      <td>1</td>\n",
              "      <td>0</td>\n",
              "      <td>1</td>\n",
              "    </tr>\n",
              "  </tbody>\n",
              "</table>\n",
              "</div>"
            ],
            "text/plain": [
              "   Store  DayOfWeek        Date  Sales  Customers  Open  Promo StateHoliday  \\\n",
              "0      1          5  2015-07-31   5263        555     1      1            0   \n",
              "1      2          5  2015-07-31   6064        625     1      1            0   \n",
              "2      3          5  2015-07-31   8314        821     1      1            0   \n",
              "3      4          5  2015-07-31  13995       1498     1      1            0   \n",
              "4      5          5  2015-07-31   4822        559     1      1            0   \n",
              "\n",
              "   SchoolHoliday  \n",
              "0              1  \n",
              "1              1  \n",
              "2              1  \n",
              "3              1  \n",
              "4              1  "
            ]
          },
          "execution_count": 57,
          "metadata": {},
          "output_type": "execute_result"
        }
      ],
      "source": [
        "train_df.head()"
      ]
    },
    {
      "cell_type": "markdown",
      "metadata": {
        "id": "813V1KxfWHA6"
      },
      "source": [
        "As train and test data contains sales data,, and the stores data contains its competetor and other details, so we need to merge train+store and test+store on store column(store column is common on both datasets).\n",
        "\n",
        "And we don't have Sales column in test data, so we can skip that test data, and move on with train data."
      ]
    },
    {
      "cell_type": "markdown",
      "metadata": {
        "id": "KPmfRnZpWHA6"
      },
      "source": [
        "### Pre-process and Feature Engineering"
      ]
    },
    {
      "cell_type": "code",
      "execution_count": null,
      "metadata": {
        "execution": {
          "iopub.execute_input": "2024-11-21T15:42:48.189317Z",
          "iopub.status.busy": "2024-11-21T15:42:48.188887Z",
          "iopub.status.idle": "2024-11-21T15:42:48.372483Z",
          "shell.execute_reply": "2024-11-21T15:42:48.371260Z",
          "shell.execute_reply.started": "2024-11-21T15:42:48.189279Z"
        },
        "trusted": true,
        "id": "DbktK_ktWHA6",
        "outputId": "1c46d1a5-7875-42c0-8365-74220ad8bace"
      },
      "outputs": [
        {
          "data": {
            "text/html": [
              "<div>\n",
              "<style scoped>\n",
              "    .dataframe tbody tr th:only-of-type {\n",
              "        vertical-align: middle;\n",
              "    }\n",
              "\n",
              "    .dataframe tbody tr th {\n",
              "        vertical-align: top;\n",
              "    }\n",
              "\n",
              "    .dataframe thead th {\n",
              "        text-align: right;\n",
              "    }\n",
              "</style>\n",
              "<table border=\"1\" class=\"dataframe\">\n",
              "  <thead>\n",
              "    <tr style=\"text-align: right;\">\n",
              "      <th></th>\n",
              "      <th>Store</th>\n",
              "      <th>DayOfWeek</th>\n",
              "      <th>Date</th>\n",
              "      <th>Sales</th>\n",
              "      <th>Customers</th>\n",
              "      <th>Open</th>\n",
              "      <th>Promo</th>\n",
              "      <th>StateHoliday</th>\n",
              "      <th>SchoolHoliday</th>\n",
              "      <th>StoreType</th>\n",
              "      <th>Assortment</th>\n",
              "      <th>CompetitionDistance</th>\n",
              "      <th>CompetitionOpenSinceMonth</th>\n",
              "      <th>CompetitionOpenSinceYear</th>\n",
              "      <th>Promo2</th>\n",
              "      <th>Promo2SinceWeek</th>\n",
              "      <th>Promo2SinceYear</th>\n",
              "      <th>PromoInterval</th>\n",
              "    </tr>\n",
              "  </thead>\n",
              "  <tbody>\n",
              "    <tr>\n",
              "      <th>0</th>\n",
              "      <td>1</td>\n",
              "      <td>5</td>\n",
              "      <td>2015-07-31</td>\n",
              "      <td>5263</td>\n",
              "      <td>555</td>\n",
              "      <td>1</td>\n",
              "      <td>1</td>\n",
              "      <td>0</td>\n",
              "      <td>1</td>\n",
              "      <td>c</td>\n",
              "      <td>a</td>\n",
              "      <td>1270.0</td>\n",
              "      <td>9.0</td>\n",
              "      <td>2008.0</td>\n",
              "      <td>0</td>\n",
              "      <td>NaN</td>\n",
              "      <td>NaN</td>\n",
              "      <td>NaN</td>\n",
              "    </tr>\n",
              "    <tr>\n",
              "      <th>1</th>\n",
              "      <td>2</td>\n",
              "      <td>5</td>\n",
              "      <td>2015-07-31</td>\n",
              "      <td>6064</td>\n",
              "      <td>625</td>\n",
              "      <td>1</td>\n",
              "      <td>1</td>\n",
              "      <td>0</td>\n",
              "      <td>1</td>\n",
              "      <td>a</td>\n",
              "      <td>a</td>\n",
              "      <td>570.0</td>\n",
              "      <td>11.0</td>\n",
              "      <td>2007.0</td>\n",
              "      <td>1</td>\n",
              "      <td>13.0</td>\n",
              "      <td>2010.0</td>\n",
              "      <td>Jan,Apr,Jul,Oct</td>\n",
              "    </tr>\n",
              "    <tr>\n",
              "      <th>2</th>\n",
              "      <td>3</td>\n",
              "      <td>5</td>\n",
              "      <td>2015-07-31</td>\n",
              "      <td>8314</td>\n",
              "      <td>821</td>\n",
              "      <td>1</td>\n",
              "      <td>1</td>\n",
              "      <td>0</td>\n",
              "      <td>1</td>\n",
              "      <td>a</td>\n",
              "      <td>a</td>\n",
              "      <td>14130.0</td>\n",
              "      <td>12.0</td>\n",
              "      <td>2006.0</td>\n",
              "      <td>1</td>\n",
              "      <td>14.0</td>\n",
              "      <td>2011.0</td>\n",
              "      <td>Jan,Apr,Jul,Oct</td>\n",
              "    </tr>\n",
              "    <tr>\n",
              "      <th>3</th>\n",
              "      <td>4</td>\n",
              "      <td>5</td>\n",
              "      <td>2015-07-31</td>\n",
              "      <td>13995</td>\n",
              "      <td>1498</td>\n",
              "      <td>1</td>\n",
              "      <td>1</td>\n",
              "      <td>0</td>\n",
              "      <td>1</td>\n",
              "      <td>c</td>\n",
              "      <td>c</td>\n",
              "      <td>620.0</td>\n",
              "      <td>9.0</td>\n",
              "      <td>2009.0</td>\n",
              "      <td>0</td>\n",
              "      <td>NaN</td>\n",
              "      <td>NaN</td>\n",
              "      <td>NaN</td>\n",
              "    </tr>\n",
              "    <tr>\n",
              "      <th>4</th>\n",
              "      <td>5</td>\n",
              "      <td>5</td>\n",
              "      <td>2015-07-31</td>\n",
              "      <td>4822</td>\n",
              "      <td>559</td>\n",
              "      <td>1</td>\n",
              "      <td>1</td>\n",
              "      <td>0</td>\n",
              "      <td>1</td>\n",
              "      <td>a</td>\n",
              "      <td>a</td>\n",
              "      <td>29910.0</td>\n",
              "      <td>4.0</td>\n",
              "      <td>2015.0</td>\n",
              "      <td>0</td>\n",
              "      <td>NaN</td>\n",
              "      <td>NaN</td>\n",
              "      <td>NaN</td>\n",
              "    </tr>\n",
              "  </tbody>\n",
              "</table>\n",
              "</div>"
            ],
            "text/plain": [
              "   Store  DayOfWeek        Date  Sales  Customers  Open  Promo StateHoliday  \\\n",
              "0      1          5  2015-07-31   5263        555     1      1            0   \n",
              "1      2          5  2015-07-31   6064        625     1      1            0   \n",
              "2      3          5  2015-07-31   8314        821     1      1            0   \n",
              "3      4          5  2015-07-31  13995       1498     1      1            0   \n",
              "4      5          5  2015-07-31   4822        559     1      1            0   \n",
              "\n",
              "   SchoolHoliday StoreType Assortment  CompetitionDistance  \\\n",
              "0              1         c          a               1270.0   \n",
              "1              1         a          a                570.0   \n",
              "2              1         a          a              14130.0   \n",
              "3              1         c          c                620.0   \n",
              "4              1         a          a              29910.0   \n",
              "\n",
              "   CompetitionOpenSinceMonth  CompetitionOpenSinceYear  Promo2  \\\n",
              "0                        9.0                    2008.0       0   \n",
              "1                       11.0                    2007.0       1   \n",
              "2                       12.0                    2006.0       1   \n",
              "3                        9.0                    2009.0       0   \n",
              "4                        4.0                    2015.0       0   \n",
              "\n",
              "   Promo2SinceWeek  Promo2SinceYear    PromoInterval  \n",
              "0              NaN              NaN              NaN  \n",
              "1             13.0           2010.0  Jan,Apr,Jul,Oct  \n",
              "2             14.0           2011.0  Jan,Apr,Jul,Oct  \n",
              "3              NaN              NaN              NaN  \n",
              "4              NaN              NaN              NaN  "
            ]
          },
          "execution_count": 59,
          "metadata": {},
          "output_type": "execute_result"
        }
      ],
      "source": [
        "merged_train_df = train_df.merge(store_df, how='left', on='Store')\n",
        "merged_train_df.head()"
      ]
    },
    {
      "cell_type": "markdown",
      "metadata": {
        "id": "zBIzQFEIWHA6"
      },
      "source": [
        "Now we have successfully merged train+store."
      ]
    },
    {
      "cell_type": "code",
      "execution_count": null,
      "metadata": {
        "execution": {
          "iopub.execute_input": "2024-11-21T15:42:48.378044Z",
          "iopub.status.busy": "2024-11-21T15:42:48.377584Z",
          "iopub.status.idle": "2024-11-21T15:42:48.384520Z",
          "shell.execute_reply": "2024-11-21T15:42:48.383135Z",
          "shell.execute_reply.started": "2024-11-21T15:42:48.377986Z"
        },
        "trusted": true,
        "id": "GzPEhFY3WHA6",
        "outputId": "2f05352a-b84c-481e-dfd0-cc4cc65c11f2"
      },
      "outputs": [
        {
          "name": "stdout",
          "output_type": "stream",
          "text": [
            "Merged train data shape is:  (1017209, 18)\n"
          ]
        }
      ],
      "source": [
        "print(\"Merged train data shape is: \", merged_train_df.shape)"
      ]
    },
    {
      "cell_type": "code",
      "execution_count": null,
      "metadata": {
        "execution": {
          "iopub.execute_input": "2024-11-21T15:42:48.386781Z",
          "iopub.status.busy": "2024-11-21T15:42:48.386285Z",
          "iopub.status.idle": "2024-11-21T15:42:48.663642Z",
          "shell.execute_reply": "2024-11-21T15:42:48.662473Z",
          "shell.execute_reply.started": "2024-11-21T15:42:48.386719Z"
        },
        "trusted": true,
        "id": "JV0bJBy8WHA6",
        "outputId": "9f5cdaa5-2e5d-4c33-fd3a-cacf3a018e69"
      },
      "outputs": [
        {
          "name": "stdout",
          "output_type": "stream",
          "text": [
            "<class 'pandas.core.frame.DataFrame'>\n",
            "RangeIndex: 1017209 entries, 0 to 1017208\n",
            "Data columns (total 18 columns):\n",
            " #   Column                     Non-Null Count    Dtype  \n",
            "---  ------                     --------------    -----  \n",
            " 0   Store                      1017209 non-null  int64  \n",
            " 1   DayOfWeek                  1017209 non-null  int64  \n",
            " 2   Date                       1017209 non-null  object \n",
            " 3   Sales                      1017209 non-null  int64  \n",
            " 4   Customers                  1017209 non-null  int64  \n",
            " 5   Open                       1017209 non-null  int64  \n",
            " 6   Promo                      1017209 non-null  int64  \n",
            " 7   StateHoliday               1017209 non-null  object \n",
            " 8   SchoolHoliday              1017209 non-null  int64  \n",
            " 9   StoreType                  1017209 non-null  object \n",
            " 10  Assortment                 1017209 non-null  object \n",
            " 11  CompetitionDistance        1014567 non-null  float64\n",
            " 12  CompetitionOpenSinceMonth  693861 non-null   float64\n",
            " 13  CompetitionOpenSinceYear   693861 non-null   float64\n",
            " 14  Promo2                     1017209 non-null  int64  \n",
            " 15  Promo2SinceWeek            509178 non-null   float64\n",
            " 16  Promo2SinceYear            509178 non-null   float64\n",
            " 17  PromoInterval              509178 non-null   object \n",
            "dtypes: float64(5), int64(8), object(5)\n",
            "memory usage: 139.7+ MB\n",
            "None\n"
          ]
        }
      ],
      "source": [
        "print(merged_train_df.info())"
      ]
    },
    {
      "cell_type": "code",
      "execution_count": null,
      "metadata": {
        "execution": {
          "iopub.execute_input": "2024-11-21T15:42:48.665133Z",
          "iopub.status.busy": "2024-11-21T15:42:48.664825Z",
          "iopub.status.idle": "2024-11-21T15:42:48.929629Z",
          "shell.execute_reply": "2024-11-21T15:42:48.928469Z",
          "shell.execute_reply.started": "2024-11-21T15:42:48.665101Z"
        },
        "trusted": true,
        "id": "PvXmtUsFWHA7",
        "outputId": "aeed8131-59f2-41c6-a0a6-7917757a934c"
      },
      "outputs": [
        {
          "name": "stdout",
          "output_type": "stream",
          "text": [
            "Store                             0\n",
            "DayOfWeek                         0\n",
            "Date                              0\n",
            "Sales                             0\n",
            "Customers                         0\n",
            "Open                              0\n",
            "Promo                             0\n",
            "StateHoliday                      0\n",
            "SchoolHoliday                     0\n",
            "StoreType                         0\n",
            "Assortment                        0\n",
            "CompetitionDistance            2642\n",
            "CompetitionOpenSinceMonth    323348\n",
            "CompetitionOpenSinceYear     323348\n",
            "Promo2                            0\n",
            "Promo2SinceWeek              508031\n",
            "Promo2SinceYear              508031\n",
            "PromoInterval                508031\n",
            "dtype: int64\n"
          ]
        }
      ],
      "source": [
        "print(merged_train_df.isnull().sum())"
      ]
    },
    {
      "cell_type": "code",
      "execution_count": null,
      "metadata": {
        "execution": {
          "iopub.execute_input": "2024-11-21T15:42:48.931743Z",
          "iopub.status.busy": "2024-11-21T15:42:48.931282Z",
          "iopub.status.idle": "2024-11-21T15:42:48.953055Z",
          "shell.execute_reply": "2024-11-21T15:42:48.951871Z",
          "shell.execute_reply.started": "2024-11-21T15:42:48.931695Z"
        },
        "trusted": true,
        "id": "rqlCZaXmWHA7",
        "outputId": "187be99b-a111-4349-b253-22c43818c213"
      },
      "outputs": [
        {
          "data": {
            "text/plain": [
              "654"
            ]
          },
          "execution_count": 63,
          "metadata": {},
          "output_type": "execute_result"
        }
      ],
      "source": [
        "merged_train_df.CompetitionDistance.nunique()"
      ]
    },
    {
      "cell_type": "markdown",
      "metadata": {
        "id": "iB7v8VF9WHA7"
      },
      "source": [
        "Since the Competetion diatsnce column values are null becuase they don't have comptetion for those stores, so we can replace them with Zer(0)"
      ]
    },
    {
      "cell_type": "code",
      "execution_count": null,
      "metadata": {
        "execution": {
          "iopub.execute_input": "2024-11-21T15:42:48.955144Z",
          "iopub.status.busy": "2024-11-21T15:42:48.954666Z",
          "iopub.status.idle": "2024-11-21T15:42:48.967469Z",
          "shell.execute_reply": "2024-11-21T15:42:48.965804Z",
          "shell.execute_reply.started": "2024-11-21T15:42:48.955094Z"
        },
        "trusted": true,
        "id": "V5PC0BWNWHA7",
        "outputId": "b256f012-2e59-43c1-c0b6-39ef972ff864"
      },
      "outputs": [
        {
          "name": "stdout",
          "output_type": "stream",
          "text": [
            "Null  values of CompetitionDistance in train dataset:  0\n"
          ]
        },
        {
          "name": "stderr",
          "output_type": "stream",
          "text": [
            "/tmp/ipykernel_30/289113731.py:1: FutureWarning: A value is trying to be set on a copy of a DataFrame or Series through chained assignment using an inplace method.\n",
            "The behavior will change in pandas 3.0. This inplace method will never work because the intermediate object on which we are setting values always behaves as a copy.\n",
            "\n",
            "For example, when doing 'df[col].method(value, inplace=True)', try using 'df.method({col: value}, inplace=True)' or df[col] = df[col].method(value) instead, to perform the operation inplace on the original object.\n",
            "\n",
            "\n",
            "  merged_train_df['CompetitionDistance'].fillna(0, inplace=True)\n"
          ]
        }
      ],
      "source": [
        "merged_train_df['CompetitionDistance'].fillna(0, inplace=True)\n",
        "print('Null  values of CompetitionDistance in train dataset: ', merged_train_df.CompetitionDistance.isna().sum())"
      ]
    },
    {
      "cell_type": "code",
      "execution_count": null,
      "metadata": {
        "execution": {
          "iopub.execute_input": "2024-11-21T15:42:48.969173Z",
          "iopub.status.busy": "2024-11-21T15:42:48.968776Z",
          "iopub.status.idle": "2024-11-21T15:42:49.229713Z",
          "shell.execute_reply": "2024-11-21T15:42:49.228570Z",
          "shell.execute_reply.started": "2024-11-21T15:42:48.969121Z"
        },
        "trusted": true,
        "id": "Wwyu5kDYWHA7",
        "outputId": "224c70ac-96af-42b3-cc28-9f1b15a02d51"
      },
      "outputs": [
        {
          "name": "stdout",
          "output_type": "stream",
          "text": [
            "train data: \n"
          ]
        },
        {
          "data": {
            "text/plain": [
              "Store                             0\n",
              "DayOfWeek                         0\n",
              "Date                              0\n",
              "Sales                             0\n",
              "Customers                         0\n",
              "Open                              0\n",
              "Promo                             0\n",
              "StateHoliday                      0\n",
              "SchoolHoliday                     0\n",
              "StoreType                         0\n",
              "Assortment                        0\n",
              "CompetitionDistance               0\n",
              "CompetitionOpenSinceMonth    323348\n",
              "CompetitionOpenSinceYear     323348\n",
              "Promo2                            0\n",
              "Promo2SinceWeek              508031\n",
              "Promo2SinceYear              508031\n",
              "PromoInterval                508031\n",
              "dtype: int64"
            ]
          },
          "execution_count": 65,
          "metadata": {},
          "output_type": "execute_result"
        }
      ],
      "source": [
        "print('train data: ')\n",
        "merged_train_df.isnull().sum()"
      ]
    },
    {
      "cell_type": "markdown",
      "metadata": {
        "id": "TOXYH9IfWHA7"
      },
      "source": [
        "Let's fill null values of 'CompetitionOpenSinceMonth' and 'CompetitionOpenSinceYear' with mode(number that occurs most often)"
      ]
    },
    {
      "cell_type": "code",
      "execution_count": null,
      "metadata": {
        "execution": {
          "iopub.execute_input": "2024-11-21T15:42:49.231987Z",
          "iopub.status.busy": "2024-11-21T15:42:49.231632Z",
          "iopub.status.idle": "2024-11-21T15:42:49.251903Z",
          "shell.execute_reply": "2024-11-21T15:42:49.250612Z",
          "shell.execute_reply.started": "2024-11-21T15:42:49.231951Z"
        },
        "trusted": true,
        "id": "WoNM4vxOWHA7",
        "outputId": "6c08e6c6-710c-4038-9cfc-5f49bcbeacc9"
      },
      "outputs": [
        {
          "data": {
            "text/plain": [
              "0    9.0\n",
              "Name: CompetitionOpenSinceMonth, dtype: float64"
            ]
          },
          "execution_count": 66,
          "metadata": {},
          "output_type": "execute_result"
        }
      ],
      "source": [
        "merged_train_df['CompetitionOpenSinceMonth'].mode()"
      ]
    },
    {
      "cell_type": "code",
      "execution_count": null,
      "metadata": {
        "execution": {
          "iopub.execute_input": "2024-11-21T15:42:49.253330Z",
          "iopub.status.busy": "2024-11-21T15:42:49.252953Z",
          "iopub.status.idle": "2024-11-21T15:42:49.304571Z",
          "shell.execute_reply": "2024-11-21T15:42:49.303355Z",
          "shell.execute_reply.started": "2024-11-21T15:42:49.253289Z"
        },
        "trusted": true,
        "id": "-OmEMCg7WHA7"
      },
      "outputs": [],
      "source": [
        "train_competition_month = merged_train_df['CompetitionOpenSinceMonth'].mode()[0]\n",
        "train_competition_year = merged_train_df['CompetitionOpenSinceYear'].mode()[0]\n",
        "merged_train_df['CompetitionOpenSinceMonth'] = merged_train_df['CompetitionOpenSinceMonth'].fillna(train_competition_month)\n",
        "merged_train_df['CompetitionOpenSinceYear'] = merged_train_df['CompetitionOpenSinceYear'].fillna(train_competition_year)"
      ]
    },
    {
      "cell_type": "code",
      "execution_count": null,
      "metadata": {
        "execution": {
          "iopub.execute_input": "2024-11-21T15:42:49.306270Z",
          "iopub.status.busy": "2024-11-21T15:42:49.305788Z",
          "iopub.status.idle": "2024-11-21T15:42:49.568620Z",
          "shell.execute_reply": "2024-11-21T15:42:49.567492Z",
          "shell.execute_reply.started": "2024-11-21T15:42:49.306228Z"
        },
        "trusted": true,
        "id": "vbYlPk84WHA7",
        "outputId": "9af31b74-4a8c-45a8-9305-20f11e4959b8"
      },
      "outputs": [
        {
          "data": {
            "text/plain": [
              "Store                             0\n",
              "DayOfWeek                         0\n",
              "Date                              0\n",
              "Sales                             0\n",
              "Customers                         0\n",
              "Open                              0\n",
              "Promo                             0\n",
              "StateHoliday                      0\n",
              "SchoolHoliday                     0\n",
              "StoreType                         0\n",
              "Assortment                        0\n",
              "CompetitionDistance               0\n",
              "CompetitionOpenSinceMonth         0\n",
              "CompetitionOpenSinceYear          0\n",
              "Promo2                            0\n",
              "Promo2SinceWeek              508031\n",
              "Promo2SinceYear              508031\n",
              "PromoInterval                508031\n",
              "dtype: int64"
            ]
          },
          "execution_count": 68,
          "metadata": {},
          "output_type": "execute_result"
        }
      ],
      "source": [
        "merged_train_df.isnull().sum()"
      ]
    },
    {
      "cell_type": "markdown",
      "metadata": {
        "id": "nA3VUaTNWHA8"
      },
      "source": [
        "If other columns, Promos are null means they didn't continued their promotino, they stopped with promo1. So we can repalce null values with 0"
      ]
    },
    {
      "cell_type": "code",
      "execution_count": null,
      "metadata": {
        "execution": {
          "iopub.execute_input": "2024-11-21T15:42:49.570327Z",
          "iopub.status.busy": "2024-11-21T15:42:49.569968Z",
          "iopub.status.idle": "2024-11-21T15:42:49.643418Z",
          "shell.execute_reply": "2024-11-21T15:42:49.642141Z",
          "shell.execute_reply.started": "2024-11-21T15:42:49.570293Z"
        },
        "trusted": true,
        "id": "FcESKGGeWHA8",
        "outputId": "a704a4a9-2b04-46ce-98d3-e03be5d5e662"
      },
      "outputs": [
        {
          "name": "stderr",
          "output_type": "stream",
          "text": [
            "/tmp/ipykernel_30/3461977129.py:1: FutureWarning: A value is trying to be set on a copy of a DataFrame or Series through chained assignment using an inplace method.\n",
            "The behavior will change in pandas 3.0. This inplace method will never work because the intermediate object on which we are setting values always behaves as a copy.\n",
            "\n",
            "For example, when doing 'df[col].method(value, inplace=True)', try using 'df.method({col: value}, inplace=True)' or df[col] = df[col].method(value) instead, to perform the operation inplace on the original object.\n",
            "\n",
            "\n",
            "  merged_train_df['Promo2SinceWeek'].fillna(0, inplace=True)\n",
            "/tmp/ipykernel_30/3461977129.py:2: FutureWarning: A value is trying to be set on a copy of a DataFrame or Series through chained assignment using an inplace method.\n",
            "The behavior will change in pandas 3.0. This inplace method will never work because the intermediate object on which we are setting values always behaves as a copy.\n",
            "\n",
            "For example, when doing 'df[col].method(value, inplace=True)', try using 'df.method({col: value}, inplace=True)' or df[col] = df[col].method(value) instead, to perform the operation inplace on the original object.\n",
            "\n",
            "\n",
            "  merged_train_df['Promo2SinceYear'].fillna(0, inplace=True)\n",
            "/tmp/ipykernel_30/3461977129.py:3: FutureWarning: A value is trying to be set on a copy of a DataFrame or Series through chained assignment using an inplace method.\n",
            "The behavior will change in pandas 3.0. This inplace method will never work because the intermediate object on which we are setting values always behaves as a copy.\n",
            "\n",
            "For example, when doing 'df[col].method(value, inplace=True)', try using 'df.method({col: value}, inplace=True)' or df[col] = df[col].method(value) instead, to perform the operation inplace on the original object.\n",
            "\n",
            "\n",
            "  merged_train_df['PromoInterval'].fillna(0, inplace=True)\n"
          ]
        }
      ],
      "source": [
        "merged_train_df['Promo2SinceWeek'].fillna(0, inplace=True)\n",
        "merged_train_df['Promo2SinceYear'].fillna(0, inplace=True)\n",
        "merged_train_df['PromoInterval'].fillna(0, inplace=True)"
      ]
    },
    {
      "cell_type": "code",
      "execution_count": null,
      "metadata": {
        "execution": {
          "iopub.execute_input": "2024-11-21T15:42:49.645621Z",
          "iopub.status.busy": "2024-11-21T15:42:49.645177Z",
          "iopub.status.idle": "2024-11-21T15:42:49.911771Z",
          "shell.execute_reply": "2024-11-21T15:42:49.910451Z",
          "shell.execute_reply.started": "2024-11-21T15:42:49.645570Z"
        },
        "trusted": true,
        "id": "b0SxqU9nWHA8",
        "outputId": "4d8c7395-1577-46d9-e3c7-6fe03a6603fd"
      },
      "outputs": [
        {
          "name": "stdout",
          "output_type": "stream",
          "text": [
            "Null values of train data column\n"
          ]
        },
        {
          "data": {
            "text/plain": [
              "Store                        0\n",
              "DayOfWeek                    0\n",
              "Date                         0\n",
              "Sales                        0\n",
              "Customers                    0\n",
              "Open                         0\n",
              "Promo                        0\n",
              "StateHoliday                 0\n",
              "SchoolHoliday                0\n",
              "StoreType                    0\n",
              "Assortment                   0\n",
              "CompetitionDistance          0\n",
              "CompetitionOpenSinceMonth    0\n",
              "CompetitionOpenSinceYear     0\n",
              "Promo2                       0\n",
              "Promo2SinceWeek              0\n",
              "Promo2SinceYear              0\n",
              "PromoInterval                0\n",
              "dtype: int64"
            ]
          },
          "execution_count": 70,
          "metadata": {},
          "output_type": "execute_result"
        }
      ],
      "source": [
        "print(\"Null values of train data column\")\n",
        "merged_train_df.isnull().sum()"
      ]
    },
    {
      "cell_type": "markdown",
      "metadata": {
        "id": "b3326A1iWHA8"
      },
      "source": [
        "Now, we can split the 'Date' column into seperate columns as 'Day', 'Month', 'Year'."
      ]
    },
    {
      "cell_type": "code",
      "execution_count": null,
      "metadata": {
        "execution": {
          "iopub.execute_input": "2024-11-21T15:42:49.914139Z",
          "iopub.status.busy": "2024-11-21T15:42:49.913629Z",
          "iopub.status.idle": "2024-11-21T15:42:49.922692Z",
          "shell.execute_reply": "2024-11-21T15:42:49.921498Z",
          "shell.execute_reply.started": "2024-11-21T15:42:49.914084Z"
        },
        "trusted": true,
        "id": "78PT8YY3WHA8",
        "outputId": "26a149e9-a098-4ed7-fd9c-dfd5ef536193"
      },
      "outputs": [
        {
          "data": {
            "text/plain": [
              "dtype('O')"
            ]
          },
          "execution_count": 71,
          "metadata": {},
          "output_type": "execute_result"
        }
      ],
      "source": [
        "merged_train_df.Date.dtype"
      ]
    },
    {
      "cell_type": "markdown",
      "metadata": {
        "id": "o95klbMRWHA8"
      },
      "source": [
        "So first we need to convert the Data column data type into date, and then split into new columns"
      ]
    },
    {
      "cell_type": "code",
      "execution_count": null,
      "metadata": {
        "execution": {
          "iopub.execute_input": "2024-11-21T15:42:49.924902Z",
          "iopub.status.busy": "2024-11-21T15:42:49.924433Z",
          "iopub.status.idle": "2024-11-21T15:42:50.037624Z",
          "shell.execute_reply": "2024-11-21T15:42:50.036440Z",
          "shell.execute_reply.started": "2024-11-21T15:42:49.924851Z"
        },
        "trusted": true,
        "id": "hXJ0awXFWHA8"
      },
      "outputs": [],
      "source": [
        "merged_train_df['Date'] = pd.to_datetime(merged_train_df.Date)"
      ]
    },
    {
      "cell_type": "code",
      "execution_count": null,
      "metadata": {
        "execution": {
          "iopub.execute_input": "2024-11-21T15:42:50.039537Z",
          "iopub.status.busy": "2024-11-21T15:42:50.039080Z",
          "iopub.status.idle": "2024-11-21T15:42:50.048360Z",
          "shell.execute_reply": "2024-11-21T15:42:50.047093Z",
          "shell.execute_reply.started": "2024-11-21T15:42:50.039484Z"
        },
        "trusted": true,
        "id": "AybEJ8wZWHA8",
        "outputId": "0da15a40-5e44-4db1-a1da-37d849dc4ca0"
      },
      "outputs": [
        {
          "data": {
            "text/plain": [
              "dtype('<M8[ns]')"
            ]
          },
          "execution_count": 73,
          "metadata": {},
          "output_type": "execute_result"
        }
      ],
      "source": [
        "merged_train_df.Date.dtype"
      ]
    },
    {
      "cell_type": "code",
      "execution_count": null,
      "metadata": {
        "execution": {
          "iopub.execute_input": "2024-11-21T15:42:50.050484Z",
          "iopub.status.busy": "2024-11-21T15:42:50.049989Z",
          "iopub.status.idle": "2024-11-21T15:42:50.144426Z",
          "shell.execute_reply": "2024-11-21T15:42:50.143111Z",
          "shell.execute_reply.started": "2024-11-21T15:42:50.050432Z"
        },
        "trusted": true,
        "id": "vV5k7NCyWHA8"
      },
      "outputs": [],
      "source": [
        "merged_train_df['Day'] = merged_train_df.Date.dt.day\n",
        "merged_train_df['Month'] = merged_train_df.Date.dt.month\n",
        "merged_train_df['Year'] = merged_train_df.Date.dt.year"
      ]
    },
    {
      "cell_type": "code",
      "execution_count": null,
      "metadata": {
        "execution": {
          "iopub.execute_input": "2024-11-21T15:42:50.149872Z",
          "iopub.status.busy": "2024-11-21T15:42:50.149467Z",
          "iopub.status.idle": "2024-11-21T15:42:50.175628Z",
          "shell.execute_reply": "2024-11-21T15:42:50.174513Z",
          "shell.execute_reply.started": "2024-11-21T15:42:50.149835Z"
        },
        "trusted": true,
        "id": "0oC3sojxWHA8",
        "outputId": "3868c60b-44a5-4b19-8b23-22b54ba3bb68"
      },
      "outputs": [
        {
          "data": {
            "text/html": [
              "<div>\n",
              "<style scoped>\n",
              "    .dataframe tbody tr th:only-of-type {\n",
              "        vertical-align: middle;\n",
              "    }\n",
              "\n",
              "    .dataframe tbody tr th {\n",
              "        vertical-align: top;\n",
              "    }\n",
              "\n",
              "    .dataframe thead th {\n",
              "        text-align: right;\n",
              "    }\n",
              "</style>\n",
              "<table border=\"1\" class=\"dataframe\">\n",
              "  <thead>\n",
              "    <tr style=\"text-align: right;\">\n",
              "      <th></th>\n",
              "      <th>Store</th>\n",
              "      <th>DayOfWeek</th>\n",
              "      <th>Date</th>\n",
              "      <th>Sales</th>\n",
              "      <th>Customers</th>\n",
              "      <th>Open</th>\n",
              "      <th>Promo</th>\n",
              "      <th>StateHoliday</th>\n",
              "      <th>SchoolHoliday</th>\n",
              "      <th>StoreType</th>\n",
              "      <th>...</th>\n",
              "      <th>CompetitionDistance</th>\n",
              "      <th>CompetitionOpenSinceMonth</th>\n",
              "      <th>CompetitionOpenSinceYear</th>\n",
              "      <th>Promo2</th>\n",
              "      <th>Promo2SinceWeek</th>\n",
              "      <th>Promo2SinceYear</th>\n",
              "      <th>PromoInterval</th>\n",
              "      <th>Day</th>\n",
              "      <th>Month</th>\n",
              "      <th>Year</th>\n",
              "    </tr>\n",
              "  </thead>\n",
              "  <tbody>\n",
              "    <tr>\n",
              "      <th>0</th>\n",
              "      <td>1</td>\n",
              "      <td>5</td>\n",
              "      <td>2015-07-31</td>\n",
              "      <td>5263</td>\n",
              "      <td>555</td>\n",
              "      <td>1</td>\n",
              "      <td>1</td>\n",
              "      <td>0</td>\n",
              "      <td>1</td>\n",
              "      <td>c</td>\n",
              "      <td>...</td>\n",
              "      <td>1270.0</td>\n",
              "      <td>9.0</td>\n",
              "      <td>2008.0</td>\n",
              "      <td>0</td>\n",
              "      <td>0.0</td>\n",
              "      <td>0.0</td>\n",
              "      <td>0</td>\n",
              "      <td>31</td>\n",
              "      <td>7</td>\n",
              "      <td>2015</td>\n",
              "    </tr>\n",
              "    <tr>\n",
              "      <th>1</th>\n",
              "      <td>2</td>\n",
              "      <td>5</td>\n",
              "      <td>2015-07-31</td>\n",
              "      <td>6064</td>\n",
              "      <td>625</td>\n",
              "      <td>1</td>\n",
              "      <td>1</td>\n",
              "      <td>0</td>\n",
              "      <td>1</td>\n",
              "      <td>a</td>\n",
              "      <td>...</td>\n",
              "      <td>570.0</td>\n",
              "      <td>11.0</td>\n",
              "      <td>2007.0</td>\n",
              "      <td>1</td>\n",
              "      <td>13.0</td>\n",
              "      <td>2010.0</td>\n",
              "      <td>Jan,Apr,Jul,Oct</td>\n",
              "      <td>31</td>\n",
              "      <td>7</td>\n",
              "      <td>2015</td>\n",
              "    </tr>\n",
              "    <tr>\n",
              "      <th>2</th>\n",
              "      <td>3</td>\n",
              "      <td>5</td>\n",
              "      <td>2015-07-31</td>\n",
              "      <td>8314</td>\n",
              "      <td>821</td>\n",
              "      <td>1</td>\n",
              "      <td>1</td>\n",
              "      <td>0</td>\n",
              "      <td>1</td>\n",
              "      <td>a</td>\n",
              "      <td>...</td>\n",
              "      <td>14130.0</td>\n",
              "      <td>12.0</td>\n",
              "      <td>2006.0</td>\n",
              "      <td>1</td>\n",
              "      <td>14.0</td>\n",
              "      <td>2011.0</td>\n",
              "      <td>Jan,Apr,Jul,Oct</td>\n",
              "      <td>31</td>\n",
              "      <td>7</td>\n",
              "      <td>2015</td>\n",
              "    </tr>\n",
              "    <tr>\n",
              "      <th>3</th>\n",
              "      <td>4</td>\n",
              "      <td>5</td>\n",
              "      <td>2015-07-31</td>\n",
              "      <td>13995</td>\n",
              "      <td>1498</td>\n",
              "      <td>1</td>\n",
              "      <td>1</td>\n",
              "      <td>0</td>\n",
              "      <td>1</td>\n",
              "      <td>c</td>\n",
              "      <td>...</td>\n",
              "      <td>620.0</td>\n",
              "      <td>9.0</td>\n",
              "      <td>2009.0</td>\n",
              "      <td>0</td>\n",
              "      <td>0.0</td>\n",
              "      <td>0.0</td>\n",
              "      <td>0</td>\n",
              "      <td>31</td>\n",
              "      <td>7</td>\n",
              "      <td>2015</td>\n",
              "    </tr>\n",
              "    <tr>\n",
              "      <th>4</th>\n",
              "      <td>5</td>\n",
              "      <td>5</td>\n",
              "      <td>2015-07-31</td>\n",
              "      <td>4822</td>\n",
              "      <td>559</td>\n",
              "      <td>1</td>\n",
              "      <td>1</td>\n",
              "      <td>0</td>\n",
              "      <td>1</td>\n",
              "      <td>a</td>\n",
              "      <td>...</td>\n",
              "      <td>29910.0</td>\n",
              "      <td>4.0</td>\n",
              "      <td>2015.0</td>\n",
              "      <td>0</td>\n",
              "      <td>0.0</td>\n",
              "      <td>0.0</td>\n",
              "      <td>0</td>\n",
              "      <td>31</td>\n",
              "      <td>7</td>\n",
              "      <td>2015</td>\n",
              "    </tr>\n",
              "  </tbody>\n",
              "</table>\n",
              "<p>5 rows × 21 columns</p>\n",
              "</div>"
            ],
            "text/plain": [
              "   Store  DayOfWeek       Date  Sales  Customers  Open  Promo StateHoliday  \\\n",
              "0      1          5 2015-07-31   5263        555     1      1            0   \n",
              "1      2          5 2015-07-31   6064        625     1      1            0   \n",
              "2      3          5 2015-07-31   8314        821     1      1            0   \n",
              "3      4          5 2015-07-31  13995       1498     1      1            0   \n",
              "4      5          5 2015-07-31   4822        559     1      1            0   \n",
              "\n",
              "   SchoolHoliday StoreType  ... CompetitionDistance  \\\n",
              "0              1         c  ...              1270.0   \n",
              "1              1         a  ...               570.0   \n",
              "2              1         a  ...             14130.0   \n",
              "3              1         c  ...               620.0   \n",
              "4              1         a  ...             29910.0   \n",
              "\n",
              "   CompetitionOpenSinceMonth  CompetitionOpenSinceYear  Promo2  \\\n",
              "0                        9.0                    2008.0       0   \n",
              "1                       11.0                    2007.0       1   \n",
              "2                       12.0                    2006.0       1   \n",
              "3                        9.0                    2009.0       0   \n",
              "4                        4.0                    2015.0       0   \n",
              "\n",
              "   Promo2SinceWeek  Promo2SinceYear    PromoInterval Day  Month  Year  \n",
              "0              0.0              0.0                0  31      7  2015  \n",
              "1             13.0           2010.0  Jan,Apr,Jul,Oct  31      7  2015  \n",
              "2             14.0           2011.0  Jan,Apr,Jul,Oct  31      7  2015  \n",
              "3              0.0              0.0                0  31      7  2015  \n",
              "4              0.0              0.0                0  31      7  2015  \n",
              "\n",
              "[5 rows x 21 columns]"
            ]
          },
          "execution_count": 75,
          "metadata": {},
          "output_type": "execute_result"
        }
      ],
      "source": [
        "merged_train_df.head()"
      ]
    },
    {
      "cell_type": "markdown",
      "metadata": {
        "id": "m86IF886WHA9"
      },
      "source": [
        "We splitted Date column into date, month and year. So we can drop date column"
      ]
    },
    {
      "cell_type": "code",
      "execution_count": null,
      "metadata": {
        "execution": {
          "iopub.execute_input": "2024-11-21T15:42:50.177392Z",
          "iopub.status.busy": "2024-11-21T15:42:50.176994Z",
          "iopub.status.idle": "2024-11-21T15:42:50.279840Z",
          "shell.execute_reply": "2024-11-21T15:42:50.278757Z",
          "shell.execute_reply.started": "2024-11-21T15:42:50.177335Z"
        },
        "trusted": true,
        "id": "jEy8KjpMWHA9"
      },
      "outputs": [],
      "source": [
        "merged_train_df = merged_train_df.drop('Date', axis=1)"
      ]
    },
    {
      "cell_type": "code",
      "execution_count": null,
      "metadata": {
        "execution": {
          "iopub.execute_input": "2024-11-21T15:42:50.281624Z",
          "iopub.status.busy": "2024-11-21T15:42:50.281273Z",
          "iopub.status.idle": "2024-11-21T15:42:50.301374Z",
          "shell.execute_reply": "2024-11-21T15:42:50.300113Z",
          "shell.execute_reply.started": "2024-11-21T15:42:50.281588Z"
        },
        "trusted": true,
        "id": "PsK2PmP8WHA9",
        "outputId": "645a9fab-3efe-4a68-bd26-cac3368c0f15"
      },
      "outputs": [
        {
          "data": {
            "text/html": [
              "<div>\n",
              "<style scoped>\n",
              "    .dataframe tbody tr th:only-of-type {\n",
              "        vertical-align: middle;\n",
              "    }\n",
              "\n",
              "    .dataframe tbody tr th {\n",
              "        vertical-align: top;\n",
              "    }\n",
              "\n",
              "    .dataframe thead th {\n",
              "        text-align: right;\n",
              "    }\n",
              "</style>\n",
              "<table border=\"1\" class=\"dataframe\">\n",
              "  <thead>\n",
              "    <tr style=\"text-align: right;\">\n",
              "      <th></th>\n",
              "      <th>Store</th>\n",
              "      <th>DayOfWeek</th>\n",
              "      <th>Sales</th>\n",
              "      <th>Customers</th>\n",
              "      <th>Open</th>\n",
              "      <th>Promo</th>\n",
              "      <th>StateHoliday</th>\n",
              "      <th>SchoolHoliday</th>\n",
              "      <th>StoreType</th>\n",
              "      <th>Assortment</th>\n",
              "      <th>CompetitionDistance</th>\n",
              "      <th>CompetitionOpenSinceMonth</th>\n",
              "      <th>CompetitionOpenSinceYear</th>\n",
              "      <th>Promo2</th>\n",
              "      <th>Promo2SinceWeek</th>\n",
              "      <th>Promo2SinceYear</th>\n",
              "      <th>PromoInterval</th>\n",
              "      <th>Day</th>\n",
              "      <th>Month</th>\n",
              "      <th>Year</th>\n",
              "    </tr>\n",
              "  </thead>\n",
              "  <tbody>\n",
              "    <tr>\n",
              "      <th>0</th>\n",
              "      <td>1</td>\n",
              "      <td>5</td>\n",
              "      <td>5263</td>\n",
              "      <td>555</td>\n",
              "      <td>1</td>\n",
              "      <td>1</td>\n",
              "      <td>0</td>\n",
              "      <td>1</td>\n",
              "      <td>c</td>\n",
              "      <td>a</td>\n",
              "      <td>1270.0</td>\n",
              "      <td>9.0</td>\n",
              "      <td>2008.0</td>\n",
              "      <td>0</td>\n",
              "      <td>0.0</td>\n",
              "      <td>0.0</td>\n",
              "      <td>0</td>\n",
              "      <td>31</td>\n",
              "      <td>7</td>\n",
              "      <td>2015</td>\n",
              "    </tr>\n",
              "    <tr>\n",
              "      <th>1</th>\n",
              "      <td>2</td>\n",
              "      <td>5</td>\n",
              "      <td>6064</td>\n",
              "      <td>625</td>\n",
              "      <td>1</td>\n",
              "      <td>1</td>\n",
              "      <td>0</td>\n",
              "      <td>1</td>\n",
              "      <td>a</td>\n",
              "      <td>a</td>\n",
              "      <td>570.0</td>\n",
              "      <td>11.0</td>\n",
              "      <td>2007.0</td>\n",
              "      <td>1</td>\n",
              "      <td>13.0</td>\n",
              "      <td>2010.0</td>\n",
              "      <td>Jan,Apr,Jul,Oct</td>\n",
              "      <td>31</td>\n",
              "      <td>7</td>\n",
              "      <td>2015</td>\n",
              "    </tr>\n",
              "    <tr>\n",
              "      <th>2</th>\n",
              "      <td>3</td>\n",
              "      <td>5</td>\n",
              "      <td>8314</td>\n",
              "      <td>821</td>\n",
              "      <td>1</td>\n",
              "      <td>1</td>\n",
              "      <td>0</td>\n",
              "      <td>1</td>\n",
              "      <td>a</td>\n",
              "      <td>a</td>\n",
              "      <td>14130.0</td>\n",
              "      <td>12.0</td>\n",
              "      <td>2006.0</td>\n",
              "      <td>1</td>\n",
              "      <td>14.0</td>\n",
              "      <td>2011.0</td>\n",
              "      <td>Jan,Apr,Jul,Oct</td>\n",
              "      <td>31</td>\n",
              "      <td>7</td>\n",
              "      <td>2015</td>\n",
              "    </tr>\n",
              "    <tr>\n",
              "      <th>3</th>\n",
              "      <td>4</td>\n",
              "      <td>5</td>\n",
              "      <td>13995</td>\n",
              "      <td>1498</td>\n",
              "      <td>1</td>\n",
              "      <td>1</td>\n",
              "      <td>0</td>\n",
              "      <td>1</td>\n",
              "      <td>c</td>\n",
              "      <td>c</td>\n",
              "      <td>620.0</td>\n",
              "      <td>9.0</td>\n",
              "      <td>2009.0</td>\n",
              "      <td>0</td>\n",
              "      <td>0.0</td>\n",
              "      <td>0.0</td>\n",
              "      <td>0</td>\n",
              "      <td>31</td>\n",
              "      <td>7</td>\n",
              "      <td>2015</td>\n",
              "    </tr>\n",
              "    <tr>\n",
              "      <th>4</th>\n",
              "      <td>5</td>\n",
              "      <td>5</td>\n",
              "      <td>4822</td>\n",
              "      <td>559</td>\n",
              "      <td>1</td>\n",
              "      <td>1</td>\n",
              "      <td>0</td>\n",
              "      <td>1</td>\n",
              "      <td>a</td>\n",
              "      <td>a</td>\n",
              "      <td>29910.0</td>\n",
              "      <td>4.0</td>\n",
              "      <td>2015.0</td>\n",
              "      <td>0</td>\n",
              "      <td>0.0</td>\n",
              "      <td>0.0</td>\n",
              "      <td>0</td>\n",
              "      <td>31</td>\n",
              "      <td>7</td>\n",
              "      <td>2015</td>\n",
              "    </tr>\n",
              "  </tbody>\n",
              "</table>\n",
              "</div>"
            ],
            "text/plain": [
              "   Store  DayOfWeek  Sales  Customers  Open  Promo StateHoliday  \\\n",
              "0      1          5   5263        555     1      1            0   \n",
              "1      2          5   6064        625     1      1            0   \n",
              "2      3          5   8314        821     1      1            0   \n",
              "3      4          5  13995       1498     1      1            0   \n",
              "4      5          5   4822        559     1      1            0   \n",
              "\n",
              "   SchoolHoliday StoreType Assortment  CompetitionDistance  \\\n",
              "0              1         c          a               1270.0   \n",
              "1              1         a          a                570.0   \n",
              "2              1         a          a              14130.0   \n",
              "3              1         c          c                620.0   \n",
              "4              1         a          a              29910.0   \n",
              "\n",
              "   CompetitionOpenSinceMonth  CompetitionOpenSinceYear  Promo2  \\\n",
              "0                        9.0                    2008.0       0   \n",
              "1                       11.0                    2007.0       1   \n",
              "2                       12.0                    2006.0       1   \n",
              "3                        9.0                    2009.0       0   \n",
              "4                        4.0                    2015.0       0   \n",
              "\n",
              "   Promo2SinceWeek  Promo2SinceYear    PromoInterval  Day  Month  Year  \n",
              "0              0.0              0.0                0   31      7  2015  \n",
              "1             13.0           2010.0  Jan,Apr,Jul,Oct   31      7  2015  \n",
              "2             14.0           2011.0  Jan,Apr,Jul,Oct   31      7  2015  \n",
              "3              0.0              0.0                0   31      7  2015  \n",
              "4              0.0              0.0                0   31      7  2015  "
            ]
          },
          "execution_count": 77,
          "metadata": {},
          "output_type": "execute_result"
        }
      ],
      "source": [
        "merged_train_df.head()"
      ]
    },
    {
      "cell_type": "code",
      "execution_count": null,
      "metadata": {
        "execution": {
          "iopub.execute_input": "2024-11-21T15:42:50.303547Z",
          "iopub.status.busy": "2024-11-21T15:42:50.303067Z",
          "iopub.status.idle": "2024-11-21T15:42:51.125239Z",
          "shell.execute_reply": "2024-11-21T15:42:51.124080Z",
          "shell.execute_reply.started": "2024-11-21T15:42:50.303489Z"
        },
        "trusted": true,
        "id": "dZbh8xQQWHA9",
        "outputId": "d4f13def-e6d9-4f4c-9c0d-4067cfb6e333"
      },
      "outputs": [
        {
          "data": {
            "text/plain": [
              "0"
            ]
          },
          "execution_count": 78,
          "metadata": {},
          "output_type": "execute_result"
        }
      ],
      "source": [
        "merged_train_df.duplicated().sum()"
      ]
    },
    {
      "cell_type": "markdown",
      "metadata": {
        "id": "zpa_ybG7WHA9"
      },
      "source": [
        "the train data is ready"
      ]
    },
    {
      "cell_type": "code",
      "execution_count": null,
      "metadata": {
        "execution": {
          "iopub.execute_input": "2024-11-21T15:42:51.127109Z",
          "iopub.status.busy": "2024-11-21T15:42:51.126668Z",
          "iopub.status.idle": "2024-11-21T15:42:51.146606Z",
          "shell.execute_reply": "2024-11-21T15:42:51.145390Z",
          "shell.execute_reply.started": "2024-11-21T15:42:51.127025Z"
        },
        "trusted": true,
        "id": "ZFd-HXdiWHBB",
        "outputId": "69d4e55b-4b39-419b-88ce-330ea6f229e6"
      },
      "outputs": [
        {
          "data": {
            "text/html": [
              "<div>\n",
              "<style scoped>\n",
              "    .dataframe tbody tr th:only-of-type {\n",
              "        vertical-align: middle;\n",
              "    }\n",
              "\n",
              "    .dataframe tbody tr th {\n",
              "        vertical-align: top;\n",
              "    }\n",
              "\n",
              "    .dataframe thead th {\n",
              "        text-align: right;\n",
              "    }\n",
              "</style>\n",
              "<table border=\"1\" class=\"dataframe\">\n",
              "  <thead>\n",
              "    <tr style=\"text-align: right;\">\n",
              "      <th></th>\n",
              "      <th>Store</th>\n",
              "      <th>DayOfWeek</th>\n",
              "      <th>Sales</th>\n",
              "      <th>Customers</th>\n",
              "      <th>Open</th>\n",
              "      <th>Promo</th>\n",
              "      <th>StateHoliday</th>\n",
              "      <th>SchoolHoliday</th>\n",
              "      <th>StoreType</th>\n",
              "      <th>Assortment</th>\n",
              "      <th>CompetitionDistance</th>\n",
              "      <th>CompetitionOpenSinceMonth</th>\n",
              "      <th>CompetitionOpenSinceYear</th>\n",
              "      <th>Promo2</th>\n",
              "      <th>Promo2SinceWeek</th>\n",
              "      <th>Promo2SinceYear</th>\n",
              "      <th>PromoInterval</th>\n",
              "      <th>Day</th>\n",
              "      <th>Month</th>\n",
              "      <th>Year</th>\n",
              "    </tr>\n",
              "  </thead>\n",
              "  <tbody>\n",
              "    <tr>\n",
              "      <th>0</th>\n",
              "      <td>1</td>\n",
              "      <td>5</td>\n",
              "      <td>5263</td>\n",
              "      <td>555</td>\n",
              "      <td>1</td>\n",
              "      <td>1</td>\n",
              "      <td>0</td>\n",
              "      <td>1</td>\n",
              "      <td>c</td>\n",
              "      <td>a</td>\n",
              "      <td>1270.0</td>\n",
              "      <td>9.0</td>\n",
              "      <td>2008.0</td>\n",
              "      <td>0</td>\n",
              "      <td>0.0</td>\n",
              "      <td>0.0</td>\n",
              "      <td>0</td>\n",
              "      <td>31</td>\n",
              "      <td>7</td>\n",
              "      <td>2015</td>\n",
              "    </tr>\n",
              "    <tr>\n",
              "      <th>1</th>\n",
              "      <td>2</td>\n",
              "      <td>5</td>\n",
              "      <td>6064</td>\n",
              "      <td>625</td>\n",
              "      <td>1</td>\n",
              "      <td>1</td>\n",
              "      <td>0</td>\n",
              "      <td>1</td>\n",
              "      <td>a</td>\n",
              "      <td>a</td>\n",
              "      <td>570.0</td>\n",
              "      <td>11.0</td>\n",
              "      <td>2007.0</td>\n",
              "      <td>1</td>\n",
              "      <td>13.0</td>\n",
              "      <td>2010.0</td>\n",
              "      <td>Jan,Apr,Jul,Oct</td>\n",
              "      <td>31</td>\n",
              "      <td>7</td>\n",
              "      <td>2015</td>\n",
              "    </tr>\n",
              "  </tbody>\n",
              "</table>\n",
              "</div>"
            ],
            "text/plain": [
              "   Store  DayOfWeek  Sales  Customers  Open  Promo StateHoliday  \\\n",
              "0      1          5   5263        555     1      1            0   \n",
              "1      2          5   6064        625     1      1            0   \n",
              "\n",
              "   SchoolHoliday StoreType Assortment  CompetitionDistance  \\\n",
              "0              1         c          a               1270.0   \n",
              "1              1         a          a                570.0   \n",
              "\n",
              "   CompetitionOpenSinceMonth  CompetitionOpenSinceYear  Promo2  \\\n",
              "0                        9.0                    2008.0       0   \n",
              "1                       11.0                    2007.0       1   \n",
              "\n",
              "   Promo2SinceWeek  Promo2SinceYear    PromoInterval  Day  Month  Year  \n",
              "0              0.0              0.0                0   31      7  2015  \n",
              "1             13.0           2010.0  Jan,Apr,Jul,Oct   31      7  2015  "
            ]
          },
          "execution_count": 79,
          "metadata": {},
          "output_type": "execute_result"
        }
      ],
      "source": [
        "merged_train_df.head(2)"
      ]
    },
    {
      "cell_type": "markdown",
      "metadata": {
        "id": "NixPkCN3WHBB"
      },
      "source": [
        "stateholiday, storetype, assortment, promointerval not provide more details while training, so we can drop them."
      ]
    },
    {
      "cell_type": "code",
      "execution_count": null,
      "metadata": {
        "execution": {
          "iopub.execute_input": "2024-11-21T15:42:51.148475Z",
          "iopub.status.busy": "2024-11-21T15:42:51.148118Z",
          "iopub.status.idle": "2024-11-21T15:42:51.260948Z",
          "shell.execute_reply": "2024-11-21T15:42:51.259559Z",
          "shell.execute_reply.started": "2024-11-21T15:42:51.148440Z"
        },
        "trusted": true,
        "id": "8u-ympjXWHBB",
        "outputId": "711f5057-2cc5-4a84-b570-70adaa60f074"
      },
      "outputs": [
        {
          "data": {
            "text/html": [
              "<div>\n",
              "<style scoped>\n",
              "    .dataframe tbody tr th:only-of-type {\n",
              "        vertical-align: middle;\n",
              "    }\n",
              "\n",
              "    .dataframe tbody tr th {\n",
              "        vertical-align: top;\n",
              "    }\n",
              "\n",
              "    .dataframe thead th {\n",
              "        text-align: right;\n",
              "    }\n",
              "</style>\n",
              "<table border=\"1\" class=\"dataframe\">\n",
              "  <thead>\n",
              "    <tr style=\"text-align: right;\">\n",
              "      <th></th>\n",
              "      <th>Store</th>\n",
              "      <th>DayOfWeek</th>\n",
              "      <th>Sales</th>\n",
              "      <th>Customers</th>\n",
              "      <th>Open</th>\n",
              "      <th>Promo</th>\n",
              "      <th>SchoolHoliday</th>\n",
              "      <th>CompetitionDistance</th>\n",
              "      <th>CompetitionOpenSinceMonth</th>\n",
              "      <th>CompetitionOpenSinceYear</th>\n",
              "      <th>Promo2</th>\n",
              "      <th>Promo2SinceWeek</th>\n",
              "      <th>Promo2SinceYear</th>\n",
              "      <th>Day</th>\n",
              "      <th>Month</th>\n",
              "      <th>Year</th>\n",
              "    </tr>\n",
              "  </thead>\n",
              "  <tbody>\n",
              "    <tr>\n",
              "      <th>0</th>\n",
              "      <td>1</td>\n",
              "      <td>5</td>\n",
              "      <td>5263</td>\n",
              "      <td>555</td>\n",
              "      <td>1</td>\n",
              "      <td>1</td>\n",
              "      <td>1</td>\n",
              "      <td>1270.0</td>\n",
              "      <td>9.0</td>\n",
              "      <td>2008.0</td>\n",
              "      <td>0</td>\n",
              "      <td>0.0</td>\n",
              "      <td>0.0</td>\n",
              "      <td>31</td>\n",
              "      <td>7</td>\n",
              "      <td>2015</td>\n",
              "    </tr>\n",
              "    <tr>\n",
              "      <th>1</th>\n",
              "      <td>2</td>\n",
              "      <td>5</td>\n",
              "      <td>6064</td>\n",
              "      <td>625</td>\n",
              "      <td>1</td>\n",
              "      <td>1</td>\n",
              "      <td>1</td>\n",
              "      <td>570.0</td>\n",
              "      <td>11.0</td>\n",
              "      <td>2007.0</td>\n",
              "      <td>1</td>\n",
              "      <td>13.0</td>\n",
              "      <td>2010.0</td>\n",
              "      <td>31</td>\n",
              "      <td>7</td>\n",
              "      <td>2015</td>\n",
              "    </tr>\n",
              "    <tr>\n",
              "      <th>2</th>\n",
              "      <td>3</td>\n",
              "      <td>5</td>\n",
              "      <td>8314</td>\n",
              "      <td>821</td>\n",
              "      <td>1</td>\n",
              "      <td>1</td>\n",
              "      <td>1</td>\n",
              "      <td>14130.0</td>\n",
              "      <td>12.0</td>\n",
              "      <td>2006.0</td>\n",
              "      <td>1</td>\n",
              "      <td>14.0</td>\n",
              "      <td>2011.0</td>\n",
              "      <td>31</td>\n",
              "      <td>7</td>\n",
              "      <td>2015</td>\n",
              "    </tr>\n",
              "    <tr>\n",
              "      <th>3</th>\n",
              "      <td>4</td>\n",
              "      <td>5</td>\n",
              "      <td>13995</td>\n",
              "      <td>1498</td>\n",
              "      <td>1</td>\n",
              "      <td>1</td>\n",
              "      <td>1</td>\n",
              "      <td>620.0</td>\n",
              "      <td>9.0</td>\n",
              "      <td>2009.0</td>\n",
              "      <td>0</td>\n",
              "      <td>0.0</td>\n",
              "      <td>0.0</td>\n",
              "      <td>31</td>\n",
              "      <td>7</td>\n",
              "      <td>2015</td>\n",
              "    </tr>\n",
              "    <tr>\n",
              "      <th>4</th>\n",
              "      <td>5</td>\n",
              "      <td>5</td>\n",
              "      <td>4822</td>\n",
              "      <td>559</td>\n",
              "      <td>1</td>\n",
              "      <td>1</td>\n",
              "      <td>1</td>\n",
              "      <td>29910.0</td>\n",
              "      <td>4.0</td>\n",
              "      <td>2015.0</td>\n",
              "      <td>0</td>\n",
              "      <td>0.0</td>\n",
              "      <td>0.0</td>\n",
              "      <td>31</td>\n",
              "      <td>7</td>\n",
              "      <td>2015</td>\n",
              "    </tr>\n",
              "  </tbody>\n",
              "</table>\n",
              "</div>"
            ],
            "text/plain": [
              "   Store  DayOfWeek  Sales  Customers  Open  Promo  SchoolHoliday  \\\n",
              "0      1          5   5263        555     1      1              1   \n",
              "1      2          5   6064        625     1      1              1   \n",
              "2      3          5   8314        821     1      1              1   \n",
              "3      4          5  13995       1498     1      1              1   \n",
              "4      5          5   4822        559     1      1              1   \n",
              "\n",
              "   CompetitionDistance  CompetitionOpenSinceMonth  CompetitionOpenSinceYear  \\\n",
              "0               1270.0                        9.0                    2008.0   \n",
              "1                570.0                       11.0                    2007.0   \n",
              "2              14130.0                       12.0                    2006.0   \n",
              "3                620.0                        9.0                    2009.0   \n",
              "4              29910.0                        4.0                    2015.0   \n",
              "\n",
              "   Promo2  Promo2SinceWeek  Promo2SinceYear  Day  Month  Year  \n",
              "0       0              0.0              0.0   31      7  2015  \n",
              "1       1             13.0           2010.0   31      7  2015  \n",
              "2       1             14.0           2011.0   31      7  2015  \n",
              "3       0              0.0              0.0   31      7  2015  \n",
              "4       0              0.0              0.0   31      7  2015  "
            ]
          },
          "execution_count": 80,
          "metadata": {},
          "output_type": "execute_result"
        }
      ],
      "source": [
        "merged_train_df.drop(columns=['StateHoliday', 'StoreType', 'Assortment', 'PromoInterval'], axis=1, inplace=True)\n",
        "merged_train_df.head()"
      ]
    },
    {
      "cell_type": "markdown",
      "metadata": {
        "id": "2FTj2IkXWHBB"
      },
      "source": [
        "Columns like 'CompetitionDistance', 'CompetitionOpenSinceMonth', 'CompetitionOpenSinceYear', 'Promo2SinceWeek', and 'Promo2SinceYear' are in float dtype, so we can convert those into int"
      ]
    },
    {
      "cell_type": "markdown",
      "metadata": {
        "id": "JxDeDgQSWHBB"
      },
      "source": [
        "### EDA"
      ]
    },
    {
      "cell_type": "code",
      "execution_count": null,
      "metadata": {
        "execution": {
          "iopub.execute_input": "2024-11-21T15:42:51.271715Z",
          "iopub.status.busy": "2024-11-21T15:42:51.271326Z",
          "iopub.status.idle": "2024-11-21T15:42:52.594178Z",
          "shell.execute_reply": "2024-11-21T15:42:52.592879Z",
          "shell.execute_reply.started": "2024-11-21T15:42:51.271679Z"
        },
        "trusted": true,
        "id": "Dc1PuVSLWHBB",
        "outputId": "ba81b83d-bd95-459e-c8ba-1ef0bf2177e6"
      },
      "outputs": [
        {
          "name": "stderr",
          "output_type": "stream",
          "text": [
            "/opt/conda/lib/python3.10/site-packages/seaborn/_oldcore.py:1119: FutureWarning: use_inf_as_na option is deprecated and will be removed in a future version. Convert inf values to NaN before operating instead.\n",
            "  with pd.option_context('mode.use_inf_as_na', True):\n"
          ]
        },
        {
          "data": {
            "image/png": "[encoded data removed]",
            "text/plain": [
              "<Figure size 640x480 with 1 Axes>"
            ]
          },
          "metadata": {},
          "output_type": "display_data"
        }
      ],
      "source": [
        "sns.histplot(data=merged_train_df, x='Sales');"
      ]
    },
    {
      "cell_type": "code",
      "execution_count": null,
      "metadata": {
        "execution": {
          "iopub.execute_input": "2024-11-21T15:42:52.595774Z",
          "iopub.status.busy": "2024-11-21T15:42:52.595456Z",
          "iopub.status.idle": "2024-11-21T15:43:01.645185Z",
          "shell.execute_reply": "2024-11-21T15:43:01.643486Z",
          "shell.execute_reply.started": "2024-11-21T15:42:52.595742Z"
        },
        "trusted": true,
        "id": "pIRqS5K_WHBB",
        "outputId": "8d1e6ce6-5c5a-4caf-b314-24a88ac0dc34"
      },
      "outputs": [
        {
          "data": {
            "text/plain": [
              "<Axes: xlabel='DayOfWeek', ylabel='Sales'>"
            ]
          },
          "execution_count": 83,
          "metadata": {},
          "output_type": "execute_result"
        },
        {
          "data": {
            "image/png": "[encoded data removed]",
            "text/plain": [
              "<Figure size 640x480 with 1 Axes>"
            ]
          },
          "metadata": {},
          "output_type": "display_data"
        }
      ],
      "source": [
        "sns.barplot(data=merged_train_df, x='DayOfWeek', y='Sales')"
      ]
    },
    {
      "cell_type": "code",
      "execution_count": null,
      "metadata": {
        "execution": {
          "iopub.execute_input": "2024-11-21T15:43:01.648166Z",
          "iopub.status.busy": "2024-11-21T15:43:01.647620Z",
          "iopub.status.idle": "2024-11-21T15:43:09.980875Z",
          "shell.execute_reply": "2024-11-21T15:43:09.979798Z",
          "shell.execute_reply.started": "2024-11-21T15:43:01.648111Z"
        },
        "trusted": true,
        "id": "DRtm4JAyWHBB",
        "outputId": "c1a61a5d-c2af-435f-e1c2-af04b8870c02"
      },
      "outputs": [
        {
          "data": {
            "text/plain": [
              "<Axes: xlabel='Month', ylabel='Sales'>"
            ]
          },
          "execution_count": 84,
          "metadata": {},
          "output_type": "execute_result"
        },
        {
          "data": {
            "image/png": "[encoded data removed]",
            "text/plain": [
              "<Figure size 640x480 with 1 Axes>"
            ]
          },
          "metadata": {},
          "output_type": "display_data"
        }
      ],
      "source": [
        "sns.barplot(data=merged_train_df, x='Month', y='Sales')"
      ]
    },
    {
      "cell_type": "code",
      "execution_count": null,
      "metadata": {
        "execution": {
          "iopub.execute_input": "2024-11-21T15:43:09.982954Z",
          "iopub.status.busy": "2024-11-21T15:43:09.982487Z",
          "iopub.status.idle": "2024-11-21T15:43:22.707690Z",
          "shell.execute_reply": "2024-11-21T15:43:22.706242Z",
          "shell.execute_reply.started": "2024-11-21T15:43:09.982902Z"
        },
        "trusted": true,
        "id": "pnpKlHc5WHBB",
        "outputId": "b8daff33-8075-4697-a381-44c32ce48e34"
      },
      "outputs": [
        {
          "data": {
            "text/plain": [
              "<Axes: xlabel='Year', ylabel='Sales'>"
            ]
          },
          "execution_count": 85,
          "metadata": {},
          "output_type": "execute_result"
        },
        {
          "data": {
            "image/png": "[encoded data removed]",
            "text/plain": [
              "<Figure size 640x480 with 1 Axes>"
            ]
          },
          "metadata": {},
          "output_type": "display_data"
        }
      ],
      "source": [
        "sns.barplot(data=merged_train_df, x='Year', y='Sales')"
      ]
    },
    {
      "cell_type": "code",
      "execution_count": null,
      "metadata": {
        "execution": {
          "iopub.execute_input": "2024-11-21T15:43:22.710510Z",
          "iopub.status.busy": "2024-11-21T15:43:22.709462Z",
          "iopub.status.idle": "2024-11-21T15:43:31.789272Z",
          "shell.execute_reply": "2024-11-21T15:43:31.788094Z",
          "shell.execute_reply.started": "2024-11-21T15:43:22.710423Z"
        },
        "trusted": true,
        "id": "Hx8E1ZbTWHBB",
        "outputId": "c3ba5dd8-6728-4b40-c3a1-ae92c9c30512"
      },
      "outputs": [
        {
          "name": "stderr",
          "output_type": "stream",
          "text": [
            "/opt/conda/lib/python3.10/site-packages/seaborn/_oldcore.py:1119: FutureWarning: use_inf_as_na option is deprecated and will be removed in a future version. Convert inf values to NaN before operating instead.\n",
            "  with pd.option_context('mode.use_inf_as_na', True):\n",
            "/opt/conda/lib/python3.10/site-packages/seaborn/_oldcore.py:1119: FutureWarning: use_inf_as_na option is deprecated and will be removed in a future version. Convert inf values to NaN before operating instead.\n",
            "  with pd.option_context('mode.use_inf_as_na', True):\n",
            "/opt/conda/lib/python3.10/site-packages/seaborn/_oldcore.py:1075: FutureWarning: When grouping with a length-1 list-like, you will need to pass a length-1 tuple to get_group in a future version of pandas. Pass `(name,)` instead of `name` to silence this warning.\n",
            "  data_subset = grouped_data.get_group(pd_key)\n",
            "/opt/conda/lib/python3.10/site-packages/seaborn/_oldcore.py:1075: FutureWarning: When grouping with a length-1 list-like, you will need to pass a length-1 tuple to get_group in a future version of pandas. Pass `(name,)` instead of `name` to silence this warning.\n",
            "  data_subset = grouped_data.get_group(pd_key)\n",
            "/opt/conda/lib/python3.10/site-packages/seaborn/_oldcore.py:1075: FutureWarning: When grouping with a length-1 list-like, you will need to pass a length-1 tuple to get_group in a future version of pandas. Pass `(name,)` instead of `name` to silence this warning.\n",
            "  data_subset = grouped_data.get_group(pd_key)\n"
          ]
        },
        {
          "data": {
            "image/png": "[encoded data removed]",
            "text/plain": [
              "<Figure size 1200x600 with 1 Axes>"
            ]
          },
          "metadata": {},
          "output_type": "display_data"
        }
      ],
      "source": [
        "plt.figure(figsize=(12, 6))\n",
        "sns.lineplot(data=merged_train_df, x='Month', y='Sales', hue='Year', marker='o')\n",
        "plt.title('Monthly Sales by Year')\n",
        "plt.xlabel('Month')\n",
        "plt.ylabel('Total Sales')\n",
        "plt.xticks(rotation=45)\n",
        "plt.legend(title='Year')\n",
        "plt.tight_layout()\n",
        "plt.show()"
      ]
    },
    {
      "cell_type": "markdown",
      "metadata": {
        "id": "va1cfvuIWHBB"
      },
      "source": [
        "### Model Training with Decision Tree"
      ]
    },
    {
      "cell_type": "code",
      "execution_count": null,
      "metadata": {
        "execution": {
          "iopub.execute_input": "2024-11-21T15:43:31.790919Z",
          "iopub.status.busy": "2024-11-21T15:43:31.790588Z",
          "iopub.status.idle": "2024-11-21T15:43:32.173430Z",
          "shell.execute_reply": "2024-11-21T15:43:32.172147Z",
          "shell.execute_reply.started": "2024-11-21T15:43:31.790884Z"
        },
        "trusted": true,
        "id": "VCNPX8EEWHBC"
      },
      "outputs": [],
      "source": [
        "# Define features (X) and target variable (y)\n",
        "X = merged_train_df.drop('Sales',axis=1)\n",
        "y = merged_train_df['Sales']\n",
        "\n",
        "# Split the data into training and testing sets\n",
        "X_train, X_test, y_train, y_test = train_test_split(X, y, test_size=0.2, random_state=42)"
      ]
    },
    {
      "cell_type": "code",
      "execution_count": null,
      "metadata": {
        "execution": {
          "iopub.execute_input": "2024-11-21T15:43:32.175459Z",
          "iopub.status.busy": "2024-11-21T15:43:32.175115Z",
          "iopub.status.idle": "2024-11-21T15:43:40.642581Z",
          "shell.execute_reply": "2024-11-21T15:43:40.641403Z",
          "shell.execute_reply.started": "2024-11-21T15:43:32.175426Z"
        },
        "trusted": true,
        "id": "81DZj9idWHBC",
        "outputId": "7e0f4d06-42dd-4434-e60d-fcf4e59e3c21"
      },
      "outputs": [
        {
          "name": "stdout",
          "output_type": "stream",
          "text": [
            "Mean Squared Error: 435495.1707808614\n",
            "R^2 Score: 0.9705523583043264\n"
          ]
        }
      ],
      "source": [
        "\n",
        "# Create a Decision Tree Regressor (or Classifier)\n",
        "model = DecisionTreeRegressor(random_state=42)  # Use DecisionTreeClassifier for classification tasks\n",
        "\n",
        "# Train the model\n",
        "model.fit(X_train, y_train)\n",
        "\n",
        "# Make predictions on the test set\n",
        "y_pred = model.predict(X_test)\n",
        "\n",
        "# Evaluate the model (for regression)\n",
        "mse = mean_squared_error(y_test, y_pred)\n",
        "r2 = r2_score(y_test, y_pred)\n",
        "\n",
        "print(f'Mean Squared Error: {mse}')\n",
        "print(f'R^2 Score: {r2}')"
      ]
    },
    {
      "cell_type": "markdown",
      "metadata": {
        "id": "B6RuwICkWHBC"
      },
      "source": [
        "Since, the model is performing well, but MSE value is very high and not good at precisting th ecorrect sales value. So let's apply a transpfrmation on output column. We can apply Box-Cox transofrmation(ensure all values are positive), as we have all positive of sales."
      ]
    },
    {
      "cell_type": "markdown",
      "metadata": {
        "id": "lmNLzcb9WHBC"
      },
      "source": [
        "### Optimization"
      ]
    },
    {
      "cell_type": "code",
      "execution_count": null,
      "metadata": {
        "execution": {
          "iopub.execute_input": "2024-11-21T15:43:40.644324Z",
          "iopub.status.busy": "2024-11-21T15:43:40.643945Z",
          "iopub.status.idle": "2024-11-21T15:43:47.132489Z",
          "shell.execute_reply": "2024-11-21T15:43:47.131266Z",
          "shell.execute_reply.started": "2024-11-21T15:43:40.644290Z"
        },
        "trusted": true,
        "id": "sXTRMl6JWHBC"
      },
      "outputs": [],
      "source": [
        "merged_train_df['Sales'] = merged_train_df['Sales'] + 1\n",
        "\n",
        "# Apply Box-Cox transformation\n",
        "merged_train_df['Sales'], lambda_value = stats.boxcox(merged_train_df['Sales'])"
      ]
    },
    {
      "cell_type": "code",
      "execution_count": null,
      "metadata": {
        "execution": {
          "iopub.execute_input": "2024-11-21T15:43:47.134154Z",
          "iopub.status.busy": "2024-11-21T15:43:47.133788Z",
          "iopub.status.idle": "2024-11-21T15:43:47.500629Z",
          "shell.execute_reply": "2024-11-21T15:43:47.499545Z",
          "shell.execute_reply.started": "2024-11-21T15:43:47.134116Z"
        },
        "trusted": true,
        "id": "rQyagYDrWHBC"
      },
      "outputs": [],
      "source": [
        "# Define features (X) and target variable (y)\n",
        "X = merged_train_df.drop('Sales',axis=1)\n",
        "y = merged_train_df['Sales']\n",
        "\n",
        "# Split the data into training and testing sets\n",
        "X_train, X_test, y_train, y_test = train_test_split(X, y, test_size=0.2, random_state=42)"
      ]
    },
    {
      "cell_type": "code",
      "execution_count": null,
      "metadata": {
        "execution": {
          "iopub.execute_input": "2024-11-21T15:43:47.502506Z",
          "iopub.status.busy": "2024-11-21T15:43:47.502067Z",
          "iopub.status.idle": "2024-11-21T15:43:55.876495Z",
          "shell.execute_reply": "2024-11-21T15:43:55.875356Z",
          "shell.execute_reply.started": "2024-11-21T15:43:47.502455Z"
        },
        "trusted": true,
        "id": "T54bafMeWHBC",
        "outputId": "84cddf25-dc21-4b32-d07d-03440b14f12c"
      },
      "outputs": [
        {
          "name": "stdout",
          "output_type": "stream",
          "text": [
            "Mean Squared Error: 30.182707281202536\n",
            "R^2 Score: 0.9903870325398278\n"
          ]
        }
      ],
      "source": [
        "\n",
        "# Create a Decision Tree Regressor (or Classifier)\n",
        "model = DecisionTreeRegressor(random_state=42)  # Use DecisionTreeClassifier for classification tasks\n",
        "\n",
        "# Train the model\n",
        "model.fit(X_train, y_train)\n",
        "\n",
        "# Make predictions on the test set\n",
        "y_pred = model.predict(X_test)\n",
        "\n",
        "# Evaluate the model (for regression)\n",
        "mse = mean_squared_error(y_test, y_pred)\n",
        "r2 = r2_score(y_test, y_pred)\n",
        "\n",
        "print(f'Mean Squared Error: {mse}')\n",
        "print(f'R^2 Score: {r2}')"
      ]
    },
    {
      "cell_type": "markdown",
      "metadata": {
        "id": "tDN-bHtdWHBC"
      },
      "source": [
        "### Model Training with Random Forest"
      ]
    },
    {
      "cell_type": "code",
      "execution_count": null,
      "metadata": {
        "execution": {
          "iopub.execute_input": "2024-11-21T16:52:41.063610Z",
          "iopub.status.busy": "2024-11-21T16:52:41.063156Z",
          "iopub.status.idle": "2024-11-21T17:02:37.640646Z",
          "shell.execute_reply": "2024-11-21T17:02:37.639320Z",
          "shell.execute_reply.started": "2024-11-21T16:52:41.063571Z"
        },
        "trusted": true,
        "id": "cnoVyqulWHBC",
        "outputId": "0e51240a-a911-4767-ccaa-ecc87fab4226"
      },
      "outputs": [
        {
          "name": "stdout",
          "output_type": "stream",
          "text": [
            "Random Forest MSE: 15.045561747949511\n",
            "Random Forest R^2 Score: 0.9952081006466532\n"
          ]
        }
      ],
      "source": [
        "rf_model = RandomForestRegressor(random_state=42)\n",
        "rf_model.fit(X_train, y_train)\n",
        "y_pred_rf = rf_model.predict(X_test)\n",
        "\n",
        "# Evaluate Random Forest model\n",
        "mse_rf = mean_squared_error(y_test, y_pred_rf)\n",
        "r2_rf = r2_score(y_test, y_pred_rf)\n",
        "\n",
        "print(f'Random Forest MSE: {mse_rf}')\n",
        "print(f'Random Forest R^2 Score: {r2_rf}')"
      ]
    },
    {
      "cell_type": "markdown",
      "metadata": {
        "id": "R1OPQGjNWHBD"
      },
      "source": [
        "### Model Prediction"
      ]
    },
    {
      "cell_type": "code",
      "execution_count": null,
      "metadata": {
        "execution": {
          "iopub.execute_input": "2024-11-21T17:04:57.114998Z",
          "iopub.status.busy": "2024-11-21T17:04:57.113908Z",
          "iopub.status.idle": "2024-11-21T17:04:57.126307Z",
          "shell.execute_reply": "2024-11-21T17:04:57.124742Z",
          "shell.execute_reply.started": "2024-11-21T17:04:57.114953Z"
        },
        "trusted": true,
        "id": "lMKHfPsZWHBD",
        "outputId": "8c8fd168-1231-4557-de68-0743a783625a"
      },
      "outputs": [
        {
          "name": "stdout",
          "output_type": "stream",
          "text": [
            "Results DataFrame:\n",
            "        Original Sales  Predicted Sales\n",
            "0             0.000000         0.000000\n",
            "1           122.507932       124.550386\n",
            "2           141.296757       143.051185\n",
            "3            96.206089        99.312835\n",
            "4           173.155612       167.734385\n",
            "...                ...              ...\n",
            "203437      153.059882       148.019172\n",
            "203438      175.332932       176.524297\n",
            "203439       96.413313        93.109743\n",
            "203440        0.000000         0.000000\n",
            "203441      199.743982       194.524667\n",
            "\n",
            "[203442 rows x 2 columns]\n"
          ]
        }
      ],
      "source": [
        "# Create a DataFrame to show original and predicted sales\n",
        "results_df = pd.DataFrame({\n",
        "    'Original Sales': y_test.reset_index(drop=True),  # Reset index to align with predictions\n",
        "    'Predicted Sales': y_pred_rf\n",
        "})\n",
        "\n",
        "print(\"Results DataFrame:\")\n",
        "print(results_df)"
      ]
    },
    {
      "cell_type": "code",
      "execution_count": null,
      "metadata": {
        "execution": {
          "iopub.execute_input": "2024-11-21T17:05:03.834317Z",
          "iopub.status.busy": "2024-11-21T17:05:03.833864Z",
          "iopub.status.idle": "2024-11-21T17:05:03.848507Z",
          "shell.execute_reply": "2024-11-21T17:05:03.846976Z",
          "shell.execute_reply.started": "2024-11-21T17:05:03.834279Z"
        },
        "trusted": true,
        "id": "bGsxAJXdWHBD",
        "outputId": "225be67d-dcb2-4018-9d37-141ea2f24394"
      },
      "outputs": [
        {
          "data": {
            "text/html": [
              "<div>\n",
              "<style scoped>\n",
              "    .dataframe tbody tr th:only-of-type {\n",
              "        vertical-align: middle;\n",
              "    }\n",
              "\n",
              "    .dataframe tbody tr th {\n",
              "        vertical-align: top;\n",
              "    }\n",
              "\n",
              "    .dataframe thead th {\n",
              "        text-align: right;\n",
              "    }\n",
              "</style>\n",
              "<table border=\"1\" class=\"dataframe\">\n",
              "  <thead>\n",
              "    <tr style=\"text-align: right;\">\n",
              "      <th></th>\n",
              "      <th>Original Sales</th>\n",
              "      <th>Predicted Sales</th>\n",
              "    </tr>\n",
              "  </thead>\n",
              "  <tbody>\n",
              "    <tr>\n",
              "      <th>0</th>\n",
              "      <td>0.000000</td>\n",
              "      <td>0.000000</td>\n",
              "    </tr>\n",
              "    <tr>\n",
              "      <th>1</th>\n",
              "      <td>122.507932</td>\n",
              "      <td>124.550386</td>\n",
              "    </tr>\n",
              "    <tr>\n",
              "      <th>2</th>\n",
              "      <td>141.296757</td>\n",
              "      <td>143.051185</td>\n",
              "    </tr>\n",
              "    <tr>\n",
              "      <th>3</th>\n",
              "      <td>96.206089</td>\n",
              "      <td>99.312835</td>\n",
              "    </tr>\n",
              "    <tr>\n",
              "      <th>4</th>\n",
              "      <td>173.155612</td>\n",
              "      <td>167.734385</td>\n",
              "    </tr>\n",
              "    <tr>\n",
              "      <th>5</th>\n",
              "      <td>0.000000</td>\n",
              "      <td>0.000000</td>\n",
              "    </tr>\n",
              "    <tr>\n",
              "      <th>6</th>\n",
              "      <td>191.740653</td>\n",
              "      <td>194.987510</td>\n",
              "    </tr>\n",
              "    <tr>\n",
              "      <th>7</th>\n",
              "      <td>130.216025</td>\n",
              "      <td>132.333929</td>\n",
              "    </tr>\n",
              "    <tr>\n",
              "      <th>8</th>\n",
              "      <td>166.488002</td>\n",
              "      <td>174.186666</td>\n",
              "    </tr>\n",
              "    <tr>\n",
              "      <th>9</th>\n",
              "      <td>143.511237</td>\n",
              "      <td>149.236696</td>\n",
              "    </tr>\n",
              "    <tr>\n",
              "      <th>10</th>\n",
              "      <td>154.967670</td>\n",
              "      <td>152.082939</td>\n",
              "    </tr>\n",
              "    <tr>\n",
              "      <th>11</th>\n",
              "      <td>126.933086</td>\n",
              "      <td>129.432528</td>\n",
              "    </tr>\n",
              "    <tr>\n",
              "      <th>12</th>\n",
              "      <td>142.768293</td>\n",
              "      <td>146.730101</td>\n",
              "    </tr>\n",
              "    <tr>\n",
              "      <th>13</th>\n",
              "      <td>135.415169</td>\n",
              "      <td>138.781136</td>\n",
              "    </tr>\n",
              "    <tr>\n",
              "      <th>14</th>\n",
              "      <td>162.142664</td>\n",
              "      <td>166.376811</td>\n",
              "    </tr>\n",
              "    <tr>\n",
              "      <th>15</th>\n",
              "      <td>139.799003</td>\n",
              "      <td>145.567505</td>\n",
              "    </tr>\n",
              "    <tr>\n",
              "      <th>16</th>\n",
              "      <td>236.683352</td>\n",
              "      <td>233.171740</td>\n",
              "    </tr>\n",
              "    <tr>\n",
              "      <th>17</th>\n",
              "      <td>93.822604</td>\n",
              "      <td>95.250969</td>\n",
              "    </tr>\n",
              "    <tr>\n",
              "      <th>18</th>\n",
              "      <td>131.086776</td>\n",
              "      <td>134.362161</td>\n",
              "    </tr>\n",
              "    <tr>\n",
              "      <th>19</th>\n",
              "      <td>158.083120</td>\n",
              "      <td>155.929085</td>\n",
              "    </tr>\n",
              "  </tbody>\n",
              "</table>\n",
              "</div>"
            ],
            "text/plain": [
              "    Original Sales  Predicted Sales\n",
              "0         0.000000         0.000000\n",
              "1       122.507932       124.550386\n",
              "2       141.296757       143.051185\n",
              "3        96.206089        99.312835\n",
              "4       173.155612       167.734385\n",
              "5         0.000000         0.000000\n",
              "6       191.740653       194.987510\n",
              "7       130.216025       132.333929\n",
              "8       166.488002       174.186666\n",
              "9       143.511237       149.236696\n",
              "10      154.967670       152.082939\n",
              "11      126.933086       129.432528\n",
              "12      142.768293       146.730101\n",
              "13      135.415169       138.781136\n",
              "14      162.142664       166.376811\n",
              "15      139.799003       145.567505\n",
              "16      236.683352       233.171740\n",
              "17       93.822604        95.250969\n",
              "18      131.086776       134.362161\n",
              "19      158.083120       155.929085"
            ]
          },
          "execution_count": 178,
          "metadata": {},
          "output_type": "execute_result"
        }
      ],
      "source": [
        "results_df.head(20)"
      ]
    },
    {
      "cell_type": "code",
      "execution_count": null,
      "metadata": {
        "trusted": true,
        "id": "dtTbmma1WHBD"
      },
      "outputs": [],
      "source": []
    }
  ],
  "metadata": {
    "kaggle": {
      "accelerator": "none",
      "dataSources": [
        {
          "databundleVersionId": 860645,
          "sourceId": 4594,
          "sourceType": "competition"
        }
      ],
      "dockerImageVersionId": 30786,
      "isGpuEnabled": false,
      "isInternetEnabled": true,
      "language": "python",
      "sourceType": "notebook"
    },
    "kernelspec": {
      "display_name": "Python 3",
      "language": "python",
      "name": "python3"
    },
    "language_info": {
      "codemirror_mode": {
        "name": "ipython",
        "version": 3
      },
      "file_extension": ".py",
      "mimetype": "text/x-python",
      "name": "python",
      "nbconvert_exporter": "python",
      "pygments_lexer": "ipython3",
      "version": "3.10.14"
    },
    "colab": {
      "provenance": []
    }
  },
  "nbformat": 4,
  "nbformat_minor": 0
}